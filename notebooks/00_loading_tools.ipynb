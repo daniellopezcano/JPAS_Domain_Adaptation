{
 "cells": [
  {
   "cell_type": "code",
   "execution_count": null,
   "metadata": {},
   "outputs": [],
   "source": [
    "%load_ext autoreload\n",
    "\n",
    "import logging\n",
    "logging.basicConfig(level=logging.INFO, format='%(asctime)s - %(levelname)s - %(message)s') # NOTSET, DEBUG, INFO, WARN, ERROR, CRITICAL\n",
    "\n",
    "from JPAS_DA.data import loading_tools\n",
    "\n",
    "import numpy as np\n",
    "\n",
    "from JPAS_DA.utils import plotting_utils\n",
    "import matplotlib as mpl\n",
    "import matplotlib.pyplot as plt\n",
    "plt.style.use('default')\n",
    "plt.close('all')\n",
    "font, rcnew = plotting_utils.matplotlib_default_config()\n",
    "mpl.rc('font', **font)\n",
    "plt.rcParams.update(rcnew)\n",
    "plt.style.use('tableau-colorblind10')\n",
    "%matplotlib widget"
   ]
  },
  {
   "cell_type": "code",
   "execution_count": null,
   "metadata": {},
   "outputs": [],
   "source": [
    "root_path = \"/home/dlopez/Documentos/0.profesional/Postdoc/USP/Projects/JPAS_photozs/DATA/Train-Validate-Test\"\n",
    "\n",
    "load_JPAS_data = [{\n",
    "    \"name\": \"all\",\n",
    "    \"npy\": \"JPAS_DATA_Aper_Cor_3_FLUX+NOISE.npy\",\n",
    "    \"csv\": \"JPAS_DATA_PROPERTIES.csv\",\n",
    "    \"sample_percentage\": 1.0  # Optional, defaults to 1.0\n",
    "}]\n",
    "\n",
    "load_DESI_data = [\n",
    "{\n",
    "    \"name\": \"train\",\n",
    "    \"npy\": \"mock_3_train.npy\",\n",
    "    \"csv\": \"props_training.csv\",\n",
    "    \"sample_percentage\": 0.3\n",
    "},\n",
    "{\n",
    "    \"name\": \"val\",\n",
    "    \"npy\": \"mock_3_validate.npy\",\n",
    "    \"csv\": \"props_validate.csv\",\n",
    "    \"sample_percentage\": 1.0\n",
    "},\n",
    "{\n",
    "    \"name\": \"test\",\n",
    "    \"npy\": \"mock_3_test.npy\",\n",
    "    \"csv\": \"props_test.csv\",\n",
    "    \"sample_percentage\": 1.0\n",
    "}\n",
    "]\n",
    "\n",
    "random_seed_load = 42"
   ]
  },
  {
   "cell_type": "code",
   "execution_count": null,
   "metadata": {},
   "outputs": [],
   "source": [
    "JPAS = {}\n",
    "JPAS = loading_tools.load_JPAS_dsets(JPAS, root_path, load_JPAS_data)"
   ]
  },
  {
   "cell_type": "code",
   "execution_count": null,
   "metadata": {},
   "outputs": [],
   "source": [
    "print(JPAS.keys())\n",
    "print(JPAS['all_observations'].shape)\n",
    "print(JPAS['all_errors'].shape)\n",
    "print(JPAS['all_pd'].keys())"
   ]
  },
  {
   "cell_type": "code",
   "execution_count": null,
   "metadata": {},
   "outputs": [],
   "source": [
    "for ii, key in enumerate(JPAS['all_pd'].keys()):\n",
    "    print(key)\n",
    "    print(\"    \", type(JPAS['all_pd'][key]))\n",
    "    print(\"    \", len(JPAS['all_pd'][key]))"
   ]
  },
  {
   "cell_type": "code",
   "execution_count": null,
   "metadata": {},
   "outputs": [],
   "source": [
    "DESI_split = {}\n",
    "DESI_split = loading_tools.load_DESI_dsets(DESI_split, root_path, load_DESI_data, random_seed=random_seed_load)"
   ]
  },
  {
   "cell_type": "code",
   "execution_count": null,
   "metadata": {},
   "outputs": [],
   "source": [
    "print(DESI_split.keys())\n",
    "\n",
    "for key in [\"train\", \"val\", \"test\"]:\n",
    "    print(key)\n",
    "\n",
    "    key_np = f\"{key}_np\"\n",
    "    print(\"    \", type(DESI_split[key_np]))    \n",
    "    print(\"    \", DESI_split[key_np].shape)\n",
    "\n",
    "    key_pd = f\"{key}_pd\"\n",
    "    for ii, key_ in enumerate(DESI_split[key_pd].keys()):\n",
    "        print(\"        \", key_)\n",
    "        print(\"            \", type(DESI_split[key_pd][key_]))\n",
    "        print(\"            \", len(DESI_split[key_pd][key_]))"
   ]
  },
  {
   "cell_type": "code",
   "execution_count": null,
   "metadata": {},
   "outputs": [],
   "source": [
    "DESI = loading_tools.concatenate_DESI_splits(DESI_split, merged_pd_key=\"DESI_pd\", merged_np_key=\"DESI_np\")"
   ]
  },
  {
   "cell_type": "code",
   "execution_count": null,
   "metadata": {},
   "outputs": [],
   "source": [
    "print(DESI.keys())\n",
    "print(DESI['DESI_np'].shape)\n",
    "print(DESI['DESI_pd'].keys())"
   ]
  },
  {
   "cell_type": "code",
   "execution_count": null,
   "metadata": {},
   "outputs": [],
   "source": [
    "for ii, key in enumerate(DESI['DESI_pd'].keys()):\n",
    "    print(key)\n",
    "    print(\"    \", type(DESI['DESI_pd'][key]))\n",
    "    print(\"    \", len(DESI['DESI_pd'][key]))"
   ]
  },
  {
   "cell_type": "code",
   "execution_count": null,
   "metadata": {},
   "outputs": [],
   "source": [
    "DATA = loading_tools.load_dsets(root_path=root_path, datasets_jpas=load_JPAS_data, datasets_desi=load_DESI_data, random_seed=random_seed_load)"
   ]
  },
  {
   "cell_type": "code",
   "execution_count": null,
   "metadata": {},
   "outputs": [],
   "source": [
    "print(DATA['JPAS'].keys())\n",
    "print(DATA['JPAS'][\"all_observations\"].shape)\n",
    "print(DATA['JPAS'][\"all_errors\"].shape)\n",
    "print(DATA['JPAS'][\"all_pd\"].keys())\n",
    "print(DATA['JPAS'][\"all_pd\"]['TARGETID'].shape)\n",
    "print()\n",
    "\n",
    "print(DATA['DESI'].keys())\n",
    "print(DATA['DESI'][\"all_np\"].shape)\n",
    "print(DATA['DESI'][\"all_pd\"].keys())\n",
    "print(DATA['DESI'][\"all_pd\"]['TARGETID'].shape)"
   ]
  },
  {
   "cell_type": "code",
   "execution_count": null,
   "metadata": {},
   "outputs": [],
   "source": [
    "fig, axs = plt.subplots(1, 2, figsize=(12, 6))\n",
    "\n",
    "for ii, survey_key in enumerate([\"JPAS\", \"DESI\"]):\n",
    "\n",
    "    unique_spectype_names, counts = np.unique(DATA[survey_key][\"all_pd\"]['SPECTYPE'], return_counts=True)\n",
    "\n",
    "    ratios = counts / np.sum(counts)\n",
    "    print(\"ratios:\", ratios)\n",
    "    inverse_ratios = 1.0 / ratios\n",
    "    class_weights = inverse_ratios / inverse_ratios.mean()\n",
    "    print(\"class_weights:\", class_weights)\n",
    "\n",
    "    ax = axs[ii]\n",
    "    colors = plt.cm.inferno(np.linspace(0., 0.8, len(counts)))\n",
    "    explode = [0.05] * len(counts)\n",
    "\n",
    "    # Function to display count and percentage in two lines\n",
    "    def make_autopct(counts):\n",
    "        def my_autopct(pct):\n",
    "            total = sum(counts)\n",
    "            absolute = int(round(pct * total / 100.0))\n",
    "            return f\"{absolute}\\n({pct:.1f}%)\"\n",
    "        return my_autopct\n",
    "\n",
    "    # Create pie chart\n",
    "    wedges, texts, autotexts = ax.pie(\n",
    "        counts,\n",
    "        labels=unique_spectype_names,\n",
    "        autopct=make_autopct(counts),\n",
    "        startangle=140,\n",
    "        colors=colors,\n",
    "        explode=explode,\n",
    "        wedgeprops={'edgecolor': 'black', 'linewidth': 1},\n",
    "        textprops={'fontsize': 12}\n",
    "    )\n",
    "\n",
    "    # Customize font color inside pie\n",
    "    for autotext in autotexts:\n",
    "        autotext.set_color(\"white\")\n",
    "\n",
    "    ax.set_title(f\"{survey_key}\", fontsize=16)\n",
    "\n",
    "# General title\n",
    "plt.suptitle(\"Distribution of Spectral Types\", fontsize=20)\n",
    "plt.tight_layout(rect=[0, 0, 1, 0.95])\n",
    "plt.show()"
   ]
  },
  {
   "cell_type": "code",
   "execution_count": null,
   "metadata": {},
   "outputs": [],
   "source": [
    "# === Compute DESI histogram ===\n",
    "_, desi_counts = np.unique(DATA[\"DESI\"][\"all_pd\"]['TARGETID'], return_counts=True)\n",
    "unique_desi, count_desi = np.unique(desi_counts, return_counts=True)\n",
    "\n",
    "# === Compute JPAS histogram ===\n",
    "_, jpas_counts = np.unique(DATA[\"JPAS\"][\"all_pd\"]['TARGETID'], return_counts=True)\n",
    "unique_jpas, count_jpas = np.unique(jpas_counts, return_counts=True)\n",
    "\n",
    "# === Unified occurrence axis ===\n",
    "occurrences = np.union1d(unique_desi, unique_jpas)\n",
    "x = np.arange(len(occurrences))\n",
    "\n",
    "# === Align frequencies ===\n",
    "aligned_desi = np.array([count_desi[unique_desi.tolist().index(v)] if v in unique_desi else 0 for v in occurrences])\n",
    "aligned_jpas = np.array([count_jpas[unique_jpas.tolist().index(v)] if v in unique_jpas else 0 for v in occurrences])\n",
    "\n",
    "# === Normalize ===\n",
    "frac_desi = aligned_desi / aligned_desi.sum()\n",
    "frac_jpas = aligned_jpas / aligned_jpas.sum()\n",
    "\n",
    "# === Plot ===\n",
    "fig, ax = plt.subplots(figsize=(9, 6))\n",
    "bar_width = 0.4\n",
    "\n",
    "ax.bar(x - bar_width/2, frac_desi, width=bar_width, color=\"#377eb8\", label=\"DESI\", edgecolor=\"black\", alpha=0.85)\n",
    "ax.bar(x + bar_width/2, frac_jpas, width=bar_width, color=\"#e41a1c\", label=\"JPAS\", edgecolor=\"black\", alpha=0.85)\n",
    "\n",
    "# === Add simple annotations ===\n",
    "for i in range(len(x)):\n",
    "    ax.text(x[i] - bar_width/2, frac_desi[i]*1.05, str(aligned_desi[i]), ha='center', va='bottom', fontsize=10)\n",
    "    ax.text(x[i] + bar_width/2, frac_jpas[i]*1.05, str(aligned_jpas[i]), ha='center', va='bottom', fontsize=10)\n",
    "\n",
    "# === Axis labels and style ===\n",
    "ax.set_title(\"Normalized Histogram of ID Occurrences\", fontsize=18)\n",
    "ax.set_xlabel(\"Number of Occurrences\", fontsize=14)\n",
    "ax.set_ylabel(\"Fraction of Unique IDs\", fontsize=14)\n",
    "ax.set_yscale(\"log\")\n",
    "ax.set_ylim(top=2.)\n",
    "\n",
    "ax.set_xticks(x)\n",
    "ax.set_xticklabels(occurrences, fontsize=12)\n",
    "ax.tick_params(axis='x', length=0)\n",
    "ax.yaxis.set_major_formatter(mpl.ticker.FuncFormatter(lambda y, _: f\"{y:.0%}\" if y >= 0.01 else f\"{y:.2%}\"))\n",
    "ax.tick_params(axis='y', labelsize=12)\n",
    "\n",
    "# Clean up frame and legend\n",
    "ax.legend(fontsize=12, frameon=True, loc='upper right')\n",
    "\n",
    "plt.tight_layout()\n",
    "plt.show()"
   ]
  },
  {
   "cell_type": "code",
   "execution_count": null,
   "metadata": {},
   "outputs": [],
   "source": []
  }
 ],
 "metadata": {
  "kernelspec": {
   "display_name": "VE",
   "language": "python",
   "name": "python3"
  },
  "language_info": {
   "codemirror_mode": {
    "name": "ipython",
    "version": 3
   },
   "file_extension": ".py",
   "mimetype": "text/x-python",
   "name": "python",
   "nbconvert_exporter": "python",
   "pygments_lexer": "ipython3",
   "version": "3.9.18"
  }
 },
 "nbformat": 4,
 "nbformat_minor": 2
}
