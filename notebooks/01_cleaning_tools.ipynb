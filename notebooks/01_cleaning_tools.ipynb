{
 "cells": [
  {
   "cell_type": "code",
   "execution_count": null,
   "metadata": {},
   "outputs": [],
   "source": [
    "%load_ext autoreload\n",
    "\n",
    "import logging\n",
    "logging.basicConfig(level=logging.INFO, format='%(asctime)s - %(levelname)s - %(message)s') # NOTSET, DEBUG, INFO, WARN, ERROR, CRITICAL\n",
    "\n",
    "from JPAS_DA.data import loading_tools\n",
    "from JPAS_DA.data import cleaning_tools\n",
    "\n",
    "import numpy as np\n",
    "\n",
    "from JPAS_DA.utils import plotting_utils\n",
    "import matplotlib as mpl\n",
    "import matplotlib.pyplot as plt\n",
    "plt.style.use('default')\n",
    "plt.close('all')\n",
    "font, rcnew = plotting_utils.matplotlib_default_config()\n",
    "mpl.rc('font', **font)\n",
    "plt.rcParams.update(rcnew)\n",
    "plt.style.use('tableau-colorblind10')\n",
    "%matplotlib widget"
   ]
  },
  {
   "cell_type": "code",
   "execution_count": null,
   "metadata": {},
   "outputs": [],
   "source": [
    "root_path = \"/home/dlopez/Documentos/0.profesional/Postdoc/USP/Projects/JPAS_photozs/DATA/Train-Validate-Test\"\n",
    "\n",
    "load_JPAS_data = [{\n",
    "    \"name\": \"all\",\n",
    "    \"npy\": \"JPAS_DATA_Aper_Cor_3_FLUX+NOISE.npy\",\n",
    "    \"csv\": \"JPAS_DATA_PROPERTIES.csv\",\n",
    "    \"sample_percentage\": 1.0  # Optional, defaults to 1.0\n",
    "}]\n",
    "\n",
    "load_DESI_data = [\n",
    "{\n",
    "    \"name\": \"train\",\n",
    "    \"npy\": \"mock_3_train.npy\",\n",
    "    \"csv\": \"props_training.csv\",\n",
    "    \"sample_percentage\": 0.3\n",
    "},\n",
    "{\n",
    "    \"name\": \"val\",\n",
    "    \"npy\": \"mock_3_validate.npy\",\n",
    "    \"csv\": \"props_validate.csv\",\n",
    "    \"sample_percentage\": 1.0\n",
    "},\n",
    "{\n",
    "    \"name\": \"test\",\n",
    "    \"npy\": \"mock_3_test.npy\",\n",
    "    \"csv\": \"props_test.csv\",\n",
    "    \"sample_percentage\": 1.0\n",
    "}\n",
    "]\n",
    "\n",
    "random_seed_load = 42"
   ]
  },
  {
   "cell_type": "code",
   "execution_count": null,
   "metadata": {},
   "outputs": [],
   "source": [
    "DATA = loading_tools.load_dsets(root_path=root_path, datasets_jpas=load_JPAS_data, datasets_desi=load_DESI_data, random_seed=random_seed_load)"
   ]
  },
  {
   "cell_type": "code",
   "execution_count": null,
   "metadata": {},
   "outputs": [],
   "source": [
    "dict_clean_data_options = {\n",
    "    \"apply_masks\"         : [\"unreliable\", \"magic_numbers\", \"negative_errors\", \"nan_values\", \"apply_additional_filters\"],\n",
    "    \"mask_indices\"        : [0, -2],\n",
    "    \"magic_numbers\"       : [-99, 99],\n",
    "    \"i_band_sn_threshold\" : 0,\n",
    "    \"z_lim_QSO_cut\"       : 2.2\n",
    "}"
   ]
  },
  {
   "cell_type": "code",
   "execution_count": null,
   "metadata": {},
   "outputs": [],
   "source": [
    "DATA_clean = cleaning_tools.clean_and_mask_data(\n",
    "    DATA=DATA,\n",
    "    apply_masks=dict_clean_data_options[\"apply_masks\"],\n",
    "    mask_indices=dict_clean_data_options[\"mask_indices\"],\n",
    "    magic_numbers=dict_clean_data_options[\"magic_numbers\"],\n",
    "    i_band_sn_threshold=dict_clean_data_options[\"i_band_sn_threshold\"],\n",
    "    z_lim_QSO_cut=dict_clean_data_options[\"z_lim_QSO_cut\"]\n",
    ")"
   ]
  },
  {
   "cell_type": "code",
   "execution_count": null,
   "metadata": {},
   "outputs": [],
   "source": [
    "DATA_clean['DESI'].keys()"
   ]
  },
  {
   "cell_type": "code",
   "execution_count": null,
   "metadata": {},
   "outputs": [],
   "source": [
    "DATA_clean['JPAS'].keys()"
   ]
  },
  {
   "cell_type": "code",
   "execution_count": null,
   "metadata": {},
   "outputs": [],
   "source": [
    "fig, axs = plt.subplots(1, 2, figsize=(12, 6))\n",
    "\n",
    "for ii, survey_key in enumerate([\"JPAS\", \"DESI\"]):\n",
    "\n",
    "    unique_spectype_names, counts = np.unique(DATA_clean[survey_key]['SPECTYPE'], return_counts=True)\n",
    "\n",
    "    ratios = counts / np.sum(counts)\n",
    "    print(survey_key, \"- ratios:\", ratios)\n",
    "    inverse_ratios = 1.0 / ratios\n",
    "    class_weights = inverse_ratios / inverse_ratios.mean()\n",
    "    print(survey_key, \"- Class_weights:\", class_weights)\n",
    "\n",
    "    ax = axs[ii]\n",
    "    colors = plt.cm.inferno(np.linspace(0., 0.8, len(counts)))\n",
    "    explode = [0.05] * len(counts)\n",
    "\n",
    "    # Function to display count and percentage in two lines\n",
    "    def make_autopct(counts):\n",
    "        def my_autopct(pct):\n",
    "            total = sum(counts)\n",
    "            absolute = int(round(pct * total / 100.0))\n",
    "            return f\"{absolute}\\n({pct:.1f}%)\"\n",
    "        return my_autopct\n",
    "\n",
    "    # Create pie chart\n",
    "    wedges, texts, autotexts = ax.pie(\n",
    "        counts,\n",
    "        labels=unique_spectype_names,\n",
    "        autopct=make_autopct(counts),\n",
    "        startangle=140,\n",
    "        colors=colors,\n",
    "        explode=explode,\n",
    "        wedgeprops={'edgecolor': 'black', 'linewidth': 1},\n",
    "        textprops={'fontsize': 12}\n",
    "    )\n",
    "\n",
    "    # Customize font color inside pie\n",
    "    for autotext in autotexts:\n",
    "        autotext.set_color(\"white\")\n",
    "\n",
    "    ax.set_title(f\"{survey_key}\", fontsize=16)\n",
    "\n",
    "# General title\n",
    "plt.suptitle(\"Distribution of Spectral Types\", fontsize=20)\n",
    "plt.tight_layout(rect=[0, 0, 1, 0.95])\n",
    "plt.show()"
   ]
  },
  {
   "cell_type": "code",
   "execution_count": null,
   "metadata": {},
   "outputs": [],
   "source": []
  }
 ],
 "metadata": {
  "kernelspec": {
   "display_name": "VE",
   "language": "python",
   "name": "python3"
  },
  "language_info": {
   "codemirror_mode": {
    "name": "ipython",
    "version": 3
   },
   "file_extension": ".py",
   "mimetype": "text/x-python",
   "name": "python",
   "nbconvert_exporter": "python",
   "pygments_lexer": "ipython3",
   "version": "3.9.18"
  }
 },
 "nbformat": 4,
 "nbformat_minor": 2
}
