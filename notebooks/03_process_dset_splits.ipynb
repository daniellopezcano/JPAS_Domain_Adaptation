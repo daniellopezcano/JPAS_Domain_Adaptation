{
 "cells": [
  {
   "cell_type": "code",
   "execution_count": null,
   "metadata": {},
   "outputs": [],
   "source": [
    "%load_ext autoreload\n",
    "\n",
    "import logging\n",
    "logging.basicConfig(level=logging.INFO, format='%(asctime)s - %(levelname)s - %(message)s') # NOTSET, DEBUG, INFO, WARN, ERROR, CRITICAL\n",
    "\n",
    "from JPAS_DA import global_setup\n",
    "from JPAS_DA.data import loading_tools\n",
    "from JPAS_DA.data import cleaning_tools\n",
    "from JPAS_DA.data import crossmatch_tools\n",
    "from JPAS_DA.data import process_dset_splits\n",
    "\n",
    "import numpy as np\n",
    "\n",
    "from JPAS_DA.utils import plotting_utils\n",
    "import matplotlib as mpl\n",
    "import matplotlib.pyplot as plt\n",
    "plt.style.use('default')\n",
    "plt.close('all')\n",
    "font, rcnew = plotting_utils.matplotlib_default_config()\n",
    "mpl.rc('font', **font)\n",
    "plt.rcParams.update(rcnew)\n",
    "plt.style.use('tableau-colorblind10')\n",
    "%matplotlib inline"
   ]
  },
  {
   "cell_type": "code",
   "execution_count": null,
   "metadata": {},
   "outputs": [],
   "source": [
    "root_path = global_setup.DATA_path\n",
    "load_JPAS_data = global_setup.load_JPAS_data\n",
    "load_DESI_data = global_setup.load_DESI_data\n",
    "\n",
    "random_seed_load = 42"
   ]
  },
  {
   "cell_type": "code",
   "execution_count": null,
   "metadata": {},
   "outputs": [],
   "source": [
    "DATA = loading_tools.load_dsets(root_path=root_path, datasets_jpas=load_JPAS_data, datasets_desi=load_DESI_data, random_seed=random_seed_load)"
   ]
  },
  {
   "cell_type": "code",
   "execution_count": null,
   "metadata": {},
   "outputs": [],
   "source": [
    "dict_clean_data_options = global_setup.dict_clean_data_options"
   ]
  },
  {
   "cell_type": "code",
   "execution_count": 5,
   "metadata": {},
   "outputs": [],
   "source": [
    "DATA = cleaning_tools.clean_and_mask_data(\n",
    "    DATA=DATA,\n",
    "    apply_masks=dict_clean_data_options[\"apply_masks\"],\n",
    "    mask_indices=dict_clean_data_options[\"mask_indices\"],\n",
    "    magic_numbers=dict_clean_data_options[\"magic_numbers\"],\n",
    "    i_band_sn_threshold=dict_clean_data_options[\"i_band_sn_threshold\"],\n",
    "    z_lim_QSO_cut=dict_clean_data_options[\"z_lim_QSO_cut\"]\n",
    ")"
   ]
  },
  {
   "cell_type": "code",
   "execution_count": null,
   "metadata": {},
   "outputs": [],
   "source": [
    "Dict_LoA = {\"both\":{}, \"only\":{}} # Dictionary of Lists of Arrays (LoA) indicating, for each TARGETID, the associatted entries in the arrays, e.g. TARGETID[LoA[ii][0]] == TARGETID[LoA[ii][-1]]\n",
    "(\n",
    "    IDs_only_DESI, IDs_only_JPAS, IDs_both,\n",
    "    Dict_LoA[\"only\"][\"DESI\"], Dict_LoA[\"only\"][\"JPAS\"],\n",
    "    Dict_LoA[\"both\"][\"DESI\"], Dict_LoA[\"both\"][\"JPAS\"]\n",
    ") = crossmatch_tools.crossmatch_IDs_two_datasets(\n",
    "    DATA[\"DESI\"]['TARGETID'], DATA[\"JPAS\"]['TARGETID']\n",
    ")"
   ]
  },
  {
   "cell_type": "code",
   "execution_count": null,
   "metadata": {},
   "outputs": [],
   "source": [
    "print(len(Dict_LoA['only']['DESI']))\n",
    "print(np.concatenate(Dict_LoA['only']['DESI']).shape)\n",
    "print(Dict_LoA['only']['DESI'])\n",
    "\n",
    "print(len(Dict_LoA['both']['DESI']))\n",
    "print(np.concatenate(Dict_LoA['both']['DESI']).shape)\n",
    "print(Dict_LoA['both']['DESI'])\n",
    "\n",
    "print(len(Dict_LoA['both']['JPAS']))\n",
    "print(np.concatenate(Dict_LoA['both']['JPAS']).shape)\n",
    "print(Dict_LoA['both']['JPAS'])"
   ]
  },
  {
   "cell_type": "code",
   "execution_count": null,
   "metadata": {},
   "outputs": [],
   "source": [
    "dict_split_data_options = {\n",
    "    \"train_ratio_both\"             : 0.8,\n",
    "    \"val_ratio_both\"               : 0.1,\n",
    "    \"test_ratio_both\"              : 0.1,\n",
    "    \"random_seed_split_both\"       : 42,\n",
    "    \"train_ratio_only_DESI\"        : 0.8,\n",
    "    \"val_ratio_only_DESI\"          : 0.1,\n",
    "    \"test_ratio_only_DESI\"         : 0.1,\n",
    "    \"random_seed_split_only_DESI\"  : 42\n",
    "}"
   ]
  },
  {
   "cell_type": "code",
   "execution_count": null,
   "metadata": {},
   "outputs": [],
   "source": [
    "# Split the Lists of Arrays into training, validation, and testing sets\n",
    "Dict_LoA_split = {\"both\":{}, \"only\":{}}\n",
    "Dict_LoA_split[\"both\"][\"JPAS\"] = process_dset_splits.split_LoA(\n",
    "    Dict_LoA[\"both\"][\"JPAS\"],\n",
    "    train_ratio = dict_split_data_options[\"train_ratio_both\"],\n",
    "    val_ratio = dict_split_data_options[\"val_ratio_both\"],\n",
    "    test_ratio = dict_split_data_options[\"test_ratio_both\"],\n",
    "    seed = dict_split_data_options[\"random_seed_split_both\"]\n",
    ")\n",
    "Dict_LoA_split[\"both\"][\"DESI\"] = process_dset_splits.split_LoA(\n",
    "    Dict_LoA[\"both\"][\"DESI\"],\n",
    "    train_ratio = dict_split_data_options[\"train_ratio_both\"],\n",
    "    val_ratio = dict_split_data_options[\"val_ratio_both\"],\n",
    "    test_ratio = dict_split_data_options[\"test_ratio_both\"],\n",
    "    seed = dict_split_data_options[\"random_seed_split_both\"]\n",
    ")\n",
    "Dict_LoA_split[\"only\"][\"DESI\"]  = process_dset_splits.split_LoA(\n",
    "    Dict_LoA[\"only\"][\"DESI\"],\n",
    "    train_ratio = dict_split_data_options[\"train_ratio_only_DESI\"],\n",
    "    val_ratio = dict_split_data_options[\"val_ratio_only_DESI\"],\n",
    "    test_ratio = dict_split_data_options[\"test_ratio_only_DESI\"],\n",
    "    seed = dict_split_data_options[\"random_seed_split_only_DESI\"]\n",
    ")"
   ]
  },
  {
   "cell_type": "code",
   "execution_count": null,
   "metadata": {},
   "outputs": [],
   "source": [
    "for ii, key_dset in enumerate(Dict_LoA_split[\"both\"][\"JPAS\"].keys()):\n",
    "    assert len(Dict_LoA_split[\"both\"][\"JPAS\"][key_dset]) == len(Dict_LoA_split[\"both\"][\"DESI\"][key_dset]), \"Both datasets must have the same number unique TARGETIDs in each of training, validation, and testing sets.\"\n",
    "    for jj in range(len(Dict_LoA_split[\"both\"][\"JPAS\"][key_dset])):\n",
    "        idx_ = Dict_LoA_split[\"both\"][\"JPAS\"][key_dset][jj][0]\n",
    "        tmp_TARGETID = DATA[\"JPAS\"][\"TARGETID\"][idx_]\n",
    "        for kk in range(len(Dict_LoA_split[\"both\"][\"DESI\"][key_dset][jj])):\n",
    "            idx_ = Dict_LoA_split[\"both\"][\"DESI\"][key_dset][jj][kk]\n",
    "            tmp_TARGETID_ = DATA[\"DESI\"][\"TARGETID\"][idx_]\n",
    "            assert tmp_TARGETID == tmp_TARGETID_, \"Both datasets must have the same TARGETIDs in each of training, validation, and testing sets.\"\n",
    "        if len(Dict_LoA_split[\"both\"][\"DESI\"][key_dset][jj]) > 2:\n",
    "            print(\"TARGETID JPAS:\", tmp_TARGETID, \"TARGETID DESI:\", tmp_TARGETID_)"
   ]
  },
  {
   "cell_type": "code",
   "execution_count": null,
   "metadata": {},
   "outputs": [],
   "source": [
    "keys_xx = ['OBS', 'ERR', 'MORPHTYPE_int']\n",
    "keys_yy = ['SPECTYPE_int', 'TARGETID']"
   ]
  },
  {
   "cell_type": "code",
   "execution_count": null,
   "metadata": {},
   "outputs": [],
   "source": [
    "key_dset = \"train\"\n",
    "\n",
    "LoA_combined, xx_combined, yy_combined = process_dset_splits.extract_and_combine_DESI_data(\n",
    "    Dict_LoA_split[\"only\"][\"DESI\"][key_dset], Dict_LoA_split[\"both\"][\"DESI\"][key_dset], DATA[\"DESI\"], keys_xx, keys_yy\n",
    ")\n",
    "LoA_DESI_only, xx_DESI_only, yy_DESI_only = process_dset_splits.extract_data_using_LoA(Dict_LoA_split[\"only\"][\"DESI\"][key_dset], DATA[\"DESI\"], keys_xx, keys_yy)\n",
    "LoA_DESI, xx_DESI, yy_DESI = process_dset_splits.extract_data_using_LoA(Dict_LoA_split[\"both\"][\"DESI\"][key_dset], DATA[\"DESI\"], keys_xx, keys_yy)\n",
    "LoA_JPAS, xx_JPAS, yy_JPAS = process_dset_splits.extract_data_using_LoA(Dict_LoA_split[\"both\"][\"JPAS\"][key_dset], DATA[\"JPAS\"], keys_xx, keys_yy)"
   ]
  },
  {
   "cell_type": "code",
   "execution_count": null,
   "metadata": {},
   "outputs": [],
   "source": [
    "print(len(LoA_combined))\n",
    "print(np.concatenate(LoA_combined).shape)\n",
    "\n",
    "print(xx_combined.keys())\n",
    "print(len(xx_combined['OBS']))\n",
    "print(xx_combined['OBS'].shape)\n",
    "print(len(xx_combined['MORPHTYPE_int']))\n",
    "print(xx_combined['MORPHTYPE_int'].shape)\n",
    "\n",
    "print(yy_combined.keys())\n",
    "print(len(yy_combined['SPECTYPE_int']))\n",
    "print(yy_combined['SPECTYPE_int'].shape)\n",
    "print(len(yy_combined['TARGETID']))\n",
    "print(yy_combined['TARGETID'].shape)"
   ]
  },
  {
   "cell_type": "code",
   "execution_count": null,
   "metadata": {},
   "outputs": [],
   "source": [
    "print(len(LoA_DESI_only))\n",
    "print(np.concatenate(LoA_DESI_only).shape)\n",
    "\n",
    "print(xx_DESI_only.keys())\n",
    "print(len(xx_DESI_only['OBS']))\n",
    "print(xx_DESI_only['OBS'].shape)\n",
    "print(len(xx_DESI_only['MORPHTYPE_int']))\n",
    "print(xx_DESI_only['MORPHTYPE_int'].shape)\n",
    "\n",
    "print(yy_DESI_only.keys())\n",
    "print(len(yy_DESI_only['SPECTYPE_int']))\n",
    "print(yy_DESI_only['SPECTYPE_int'].shape)\n",
    "print(len(yy_DESI_only['TARGETID']))\n",
    "print(yy_DESI_only['TARGETID'].shape)"
   ]
  },
  {
   "cell_type": "code",
   "execution_count": null,
   "metadata": {},
   "outputs": [],
   "source": [
    "print(len(LoA_JPAS))\n",
    "print(np.concatenate(LoA_JPAS).shape)\n",
    "\n",
    "print(xx_JPAS.keys())\n",
    "print(len(xx_JPAS['OBS']))\n",
    "print(xx_JPAS['OBS'].shape)\n",
    "print(len(xx_JPAS['MORPHTYPE_int']))\n",
    "print(xx_JPAS['MORPHTYPE_int'].shape)\n",
    "\n",
    "print(yy_JPAS.keys())\n",
    "print(len(yy_JPAS['SPECTYPE_int']))\n",
    "print(yy_JPAS['SPECTYPE_int'].shape)\n",
    "print(len(yy_JPAS['TARGETID']))\n",
    "print(yy_JPAS['TARGETID'].shape)"
   ]
  },
  {
   "cell_type": "code",
   "execution_count": null,
   "metadata": {},
   "outputs": [],
   "source": [
    "print(len(LoA_DESI))\n",
    "print(np.concatenate(LoA_DESI).shape)\n",
    "\n",
    "print(xx_DESI.keys())\n",
    "print(len(xx_DESI['OBS']))\n",
    "print(xx_DESI['OBS'].shape)\n",
    "print(len(xx_DESI['MORPHTYPE_int']))\n",
    "print(xx_DESI['MORPHTYPE_int'].shape)\n",
    "\n",
    "print(yy_DESI.keys())\n",
    "print(len(yy_DESI['SPECTYPE_int']))\n",
    "print(yy_DESI['SPECTYPE_int'].shape)\n",
    "print(len(yy_DESI['TARGETID']))\n",
    "print(yy_DESI['TARGETID'].shape)"
   ]
  },
  {
   "cell_type": "code",
   "execution_count": null,
   "metadata": {},
   "outputs": [],
   "source": [
    "assert len(LoA_DESI) == len(LoA_JPAS), \"Both datasets must have the same number unique TARGETIDs\"\n",
    "assert np.unique(yy_JPAS['TARGETID']).shape == np.unique(yy_DESI['TARGETID']).shape, \"Both datasets must have the same number unique TARGETIDs\"\n",
    "\n",
    "for ii in np.arange(45,50):\n",
    "    for jj in range(len(LoA_JPAS[ii])):\n",
    "        print(\"JPAS TARGETID\", yy_JPAS['TARGETID'][LoA_JPAS[ii][jj]])\n",
    "    for jj in range(len(LoA_DESI[ii])):\n",
    "        print(\"DESI TARGETID\", yy_DESI['TARGETID'][LoA_DESI[ii][jj]])\n",
    "    print()"
   ]
  },
  {
   "cell_type": "code",
   "execution_count": null,
   "metadata": {},
   "outputs": [],
   "source": []
  }
 ],
 "metadata": {
  "kernelspec": {
   "display_name": "VE",
   "language": "python",
   "name": "python3"
  },
  "language_info": {
   "codemirror_mode": {
    "name": "ipython",
    "version": 3
   },
   "file_extension": ".py",
   "mimetype": "text/x-python",
   "name": "python",
   "nbconvert_exporter": "python",
   "pygments_lexer": "ipython3",
   "version": "3.9.23"
  }
 },
 "nbformat": 4,
 "nbformat_minor": 2
}
