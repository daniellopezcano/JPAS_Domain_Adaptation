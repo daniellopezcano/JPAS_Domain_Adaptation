{
 "cells": [
  {
   "cell_type": "code",
   "execution_count": 1,
   "metadata": {},
   "outputs": [],
   "source": [
    "%load_ext autoreload\n",
    "\n",
    "import logging\n",
    "logging.basicConfig(level=logging.INFO, format='%(asctime)s - %(levelname)s - %(message)s') # NOTSET, DEBUG, INFO, WARN, ERROR, CRITICAL\n",
    "\n",
    "from JPAS_DA import global_setup\n",
    "from JPAS_DA.data import loading_tools\n",
    "from JPAS_DA.data import cleaning_tools\n",
    "from JPAS_DA.data import crossmatch_tools\n",
    "from JPAS_DA.data import process_dset_splits\n",
    "from JPAS_DA.data import data_loaders\n",
    "\n",
    "import numpy as np\n",
    "\n",
    "from JPAS_DA.utils import plotting_utils\n",
    "import matplotlib as mpl\n",
    "import matplotlib.pyplot as plt\n",
    "plt.style.use('default')\n",
    "plt.close('all')\n",
    "font, rcnew = plotting_utils.matplotlib_default_config()\n",
    "mpl.rc('font', **font)\n",
    "plt.rcParams.update(rcnew)\n",
    "plt.style.use('tableau-colorblind10')\n",
    "%matplotlib widget"
   ]
  },
  {
   "cell_type": "code",
   "execution_count": 2,
   "metadata": {},
   "outputs": [],
   "source": [
    "root_path = global_setup.DATA_path\n",
    "load_JPAS_x_DESI_Raul   = global_setup.load_JPAS_x_DESI_Raul\n",
    "load_DESI_mocks_Raul    = global_setup.load_DESI_mocks_Raul\n",
    "load_Ignasi             = global_setup.load_Ignasi\n",
    "\n",
    "random_seed_load = global_setup.default_seed"
   ]
  },
  {
   "cell_type": "code",
   "execution_count": 3,
   "metadata": {},
   "outputs": [],
   "source": [
    "list_of_datasets_to_load = [\"JPAS_x_DESI_Raul\", \"DESI_mocks_Raul\"]"
   ]
  },
  {
   "cell_type": "code",
   "execution_count": 4,
   "metadata": {},
   "outputs": [
    {
     "name": "stderr",
     "output_type": "stream",
     "text": [
      "2025-09-17 14:24:03,948 - INFO - 📥 Starting modular dataset loading (load_data_bundle)\n",
      "2025-09-17 14:24:03,948 - INFO - ├── Loading JPAS_x_DESI_Raul ...\n",
      "2025-09-17 14:24:03,949 - INFO - ├─── 📥 Starting JPAS_x_DESI_Raul dataset loading...\n",
      "2025-09-17 14:24:03,949 - INFO - |    ├─── 🔹 Dataset: all (sample 100%)\n",
      "2025-09-17 14:24:03,996 - INFO - |    |    ✔ CSV loaded: JPAS_DATA_PROPERTIES.csv (shape: (52020, 18))\n",
      "2025-09-17 14:24:04,008 - INFO - |    |    ✔ NPY loaded: JPAS_DATA_Aper_Cor_3_FLUX+NOISE.npy (obs shape: (52020, 57))\n",
      "2025-09-17 14:24:04,009 - WARNING - |    |    ⚠ No pickle file provided or file does not exist: /home/dlopez/Documentos/0.profesional/Postdoc/USP/Projects/JPAS_Domain_Adaptation/DATA/JPAS_DATA_PROPERTIES_AUX.pkl\n",
      "2025-09-17 14:24:04,009 - INFO - ├─── ✅ Finished loading all JPAS datasets.\n",
      "2025-09-17 14:24:04,010 - INFO - │   ✔ Loaded JPAS_x_DESI_Raul\n",
      "2025-09-17 14:24:04,010 - INFO - ├── Loading DESI_mocks_Raul ...\n",
      "2025-09-17 14:24:04,011 - INFO - ├─── 📥 Loading DESI datasets (splitted)...\n",
      "2025-09-17 14:24:04,011 - INFO - ├─── 📥 Starting DESI dataset loading...\n",
      "2025-09-17 14:24:04,011 - INFO - |    ├─── 🔹 Dataset: train\n",
      "2025-09-17 14:24:07,090 - INFO - |    |    ✔ CSV loaded ((3450643, 18)), Size: 1414.03 MB\n",
      "2025-09-17 14:24:07,091 - INFO - |    |    ✔ NPY loaded ((3450643, 57, 3)), Size: 4720.48 MB\n",
      "2025-09-17 14:24:08,790 - INFO - |    |    ✔ Sample loaded. Final shape: (3450643, 57, 3)\n",
      "2025-09-17 14:24:08,791 - INFO - |    ├─── 🔹 Dataset: val\n",
      "2025-09-17 14:24:09,495 - INFO - |    |    ✔ CSV loaded ((739420, 18)), Size: 303.01 MB\n",
      "2025-09-17 14:24:09,528 - INFO - |    |    ✔ NPY loaded ((739420, 57, 3)), Size: 1011.53 MB\n",
      "2025-09-17 14:24:09,872 - INFO - |    |    ✔ Sample loaded. Final shape: (739420, 57, 3)\n",
      "2025-09-17 14:24:09,873 - INFO - |    ├─── 🔹 Dataset: test\n",
      "2025-09-17 14:24:10,496 - INFO - |    |    ✔ CSV loaded ((739435, 18)), Size: 303.01 MB\n",
      "2025-09-17 14:24:10,503 - INFO - |    |    ✔ NPY loaded ((739435, 57, 3)), Size: 1011.55 MB\n",
      "2025-09-17 14:24:10,854 - INFO - |    |    ✔ Sample loaded. Final shape: (739435, 57, 3)\n",
      "2025-09-17 14:24:10,855 - INFO - ├─── ✅ Finished loading all DESI datasets.\n",
      "2025-09-17 14:24:10,869 - INFO - ├─── 🔗 Concatenating DESI datasets...\n",
      "2025-09-17 14:24:10,870 - INFO - ├─── 🔄 Concatenating DESI dataset splits...\n",
      "2025-09-17 14:24:10,870 - INFO - |    |    Identified split names: ['train', 'val', 'test']\n",
      "2025-09-17 14:24:11,847 - INFO - |    |    Merged NPY arrays into 'all_np' with shape (4929498, 57, 3)\n",
      "2025-09-17 14:24:11,847 - INFO - ├─── ✅ DESI split concatenation complete.\n",
      "2025-09-17 14:24:11,848 - INFO - ├─── ✅ DESI mocks (Raul) ready: all_observations (4929498, 57), all_errors (4929498, 57), all_pd keys: 19\n",
      "2025-09-17 14:24:11,877 - INFO - │   ✔ Loaded DESI_mocks_Raul\n",
      "2025-09-17 14:24:11,878 - INFO - ✅ Finished modular dataset loading.\n"
     ]
    }
   ],
   "source": [
    "DATA = loading_tools.load_data_bundle(\n",
    "    root_path=root_path,\n",
    "    include=list_of_datasets_to_load,\n",
    "    JPAS_x_DESI_Raul={\"datasets\": load_JPAS_x_DESI_Raul},\n",
    "    DESI_mocks_Raul={\"datasets\": load_DESI_mocks_Raul},\n",
    "    Ignasi={\"datasets\": load_Ignasi},\n",
    "    random_seed=random_seed_load,\n",
    ")"
   ]
  },
  {
   "cell_type": "code",
   "execution_count": 5,
   "metadata": {},
   "outputs": [],
   "source": [
    "config_dict_cleaning = global_setup.config_dict_cleaning"
   ]
  },
  {
   "cell_type": "code",
   "execution_count": 6,
   "metadata": {},
   "outputs": [
    {
     "name": "stderr",
     "output_type": "stream",
     "text": [
      "2025-09-17 14:24:11,894 - INFO - 🧹 Cleaning dataset: JPAS_x_DESI_Raul\n",
      "2025-09-17 14:24:11,894 - INFO - ├── mask_out_unreliable_columns(mask_unreliable_filters_indices=[0, -2])\n",
      "2025-09-17 14:24:11,903 - INFO - │   ├── Removed columns: [0, 55]\n",
      "2025-09-17 14:24:11,903 - INFO - │   ├── New #filters: 55\n",
      "2025-09-17 14:24:11,904 - INFO - │   ├── Updated observations shape: (52020, 55)\n",
      "2025-09-17 14:24:11,904 - INFO - │   ├── Updated errors shape: (52020, 55)\n",
      "2025-09-17 14:24:11,904 - INFO - ├── remove_NaNs(check='both', keep_rows_partially_filled_with_NaNs=True)\n",
      "2025-09-17 14:24:11,905 - INFO - │   ├── rows fully NaN (drop): 0/52020 (0.00%)\n",
      "2025-09-17 14:24:11,906 - INFO - │   ├── rows with SOME NaNs:   0/52020 (0.00%)\n",
      "2025-09-17 14:24:11,906 - INFO - │   ├── rows dropped due to policy: 0/52020\n",
      "2025-09-17 14:24:11,906 - INFO - │   └── final kept: 52020/52020 (100.00%)\n",
      "2025-09-17 14:24:11,992 - INFO - ├── remove_magic_rows(check='obs', keep_rows_partially_filled_with_magic=True, magic_numbers=[-99, 99])\n",
      "2025-09-17 14:24:11,995 - INFO - │   ├── rows fully magic (drop): 0/52020 (0.00%)\n",
      "2025-09-17 14:24:11,996 - INFO - │   ├── rows with SOME magic:  0/52020 (0.00%)\n",
      "2025-09-17 14:24:11,997 - INFO - │   └── final kept: 52020/52020 (100.00%)\n",
      "2025-09-17 14:24:12,052 - INFO - ├── apply_selection_cuts()\n",
      "2025-09-17 14:24:12,052 - INFO - │   ├── i-band S/N ≥ 0.0\n",
      "2025-09-17 14:24:12,053 - INFO - │   │   └── rows kept after S/N: 52020/52020 (100.00%)\n",
      "2025-09-17 14:24:12,054 - INFO - │   ├── mag(DESI_FLUX_R) ≤ 22.5\n",
      "2025-09-17 14:24:12,054 - INFO - │   │   └── rows kept after mag: 36845/52020 (70.83%)\n",
      "2025-09-17 14:24:12,055 - INFO - │   └── final kept: 36845/52020 (70.83%)\n",
      "2025-09-17 14:24:12,069 - INFO - ├── fix_and_mask_negative_errors()\n",
      "2025-09-17 14:24:12,070 - INFO - │   ├── rows with some negative errors: 6762/36845 (18.35%)\n",
      "2025-09-17 14:24:12,076 - INFO - ├── split_qso_by_redshift(z_lim_QSO_cut=2.1, redshift_key='REDSHIFT')\n",
      "2025-09-17 14:24:12,076 - INFO - │   ├── total QSOs: 2222\n",
      "2025-09-17 14:24:12,076 - INFO - │   ├── relabeled: low=1642, high=580\n",
      "2025-09-17 14:24:12,077 - INFO - ├── collapse_spectype_one_vs_rest: positive_collapse_label=None → no collapse performed.\n",
      "2025-09-17 14:24:12,080 - INFO - ├── 🔑 Starting encoding process for string list...\n",
      "2025-09-17 14:24:12,087 - INFO - |    ├── 📌 Used Provided Mapping: {'GALAXY': 0, 'QSO_low': 1, 'QSO_high': 2, 'STAR': 3}\n",
      "2025-09-17 14:24:12,087 - INFO - │    ├── 📊 Category Breakdown (36845 total):\n",
      "2025-09-17 14:24:12,088 - INFO - │    │   ├── GALAXY          → 22408 (60.82%)\n",
      "2025-09-17 14:24:12,088 - INFO - │    │   ├── QSO_low         →  1642 (4.46%)\n",
      "2025-09-17 14:24:12,088 - INFO - │    │   ├── QSO_high        →   580 (1.57%)\n",
      "2025-09-17 14:24:12,088 - INFO - │    │   ├── STAR            → 12215 (33.15%)\n",
      "2025-09-17 14:24:12,088 - INFO - ├── ✅ Encoding complete (4 categories + unmapped bucket if any).\n",
      "2025-09-17 14:24:12,092 - INFO - ├── 🔑 Starting encoding process for string list...\n",
      "2025-09-17 14:24:12,101 - INFO - |    ├── 📌 Used Provided Mapping: {'DEV': 0, 'EXP': 1, 'GGAL': 2, 'GPSF': 3, 'PSF': 4, 'REX': 5, 'SER': 6, 'nan': 7}\n",
      "2025-09-17 14:24:12,101 - INFO - │    ├── 📊 Category Breakdown (36845 total):\n",
      "2025-09-17 14:24:12,101 - INFO - │    │   ├── DEV             →  5117 (13.89%)\n",
      "2025-09-17 14:24:12,101 - INFO - │    │   ├── EXP             →  3468 (9.41%)\n",
      "2025-09-17 14:24:12,101 - INFO - │    │   ├── GGAL            →     1 (0.00%)\n",
      "2025-09-17 14:24:12,102 - INFO - │    │   ├── GPSF            →     0 (0.00%)\n",
      "2025-09-17 14:24:12,102 - INFO - │    │   ├── PSF             → 14687 (39.86%)\n",
      "2025-09-17 14:24:12,102 - INFO - │    │   ├── REX             →  5837 (15.84%)\n",
      "2025-09-17 14:24:12,102 - INFO - │    │   ├── SER             →  6737 (18.28%)\n",
      "2025-09-17 14:24:12,102 - INFO - │    │   ├── nan             →   998 (2.71%)\n",
      "2025-09-17 14:24:12,102 - INFO - ├── ✅ Encoding complete (8 categories + unmapped bucket if any).\n",
      "2025-09-17 14:24:12,103 - INFO - [apply_normalization_from_file] Starting normalization using file: /home/dlopez/Documentos/0.profesional/Postdoc/USP/Projects/JPAS_Domain_Adaptation/DATA/norm_params.pkl\n",
      "2025-09-17 14:24:12,103 - INFO - [apply_normalization_from_file] Loaded normalization dictionary.\n",
      "2025-09-17 14:24:12,103 - INFO - [apply_normalization_from_file] Available mean keys: ['all_observations', 'all_errors', 'all_pd']\n",
      "2025-09-17 14:24:12,103 - INFO - [apply_normalization_from_file] Available std  keys: ['all_observations', 'all_errors', 'all_pd']\n",
      "2025-09-17 14:24:12,103 - INFO - [apply_normalization_from_file] Normalizing 'all_observations' with shapes: X=(36845, 55), mean=(55,), std=(55,)\n",
      "2025-09-17 14:24:12,107 - INFO - [apply_normalization_from_file] Wrote 'all_observations_normalized' with shape (36845, 55)\n",
      "2025-09-17 14:24:12,108 - INFO - [apply_normalization_from_file] Normalizing 'all_errors' with shapes: E=(36845, 55), mean=(55,), std=(55,)\n",
      "2025-09-17 14:24:12,111 - INFO - [apply_normalization_from_file] Wrote 'all_errors_normalized' with shape (36845, 55)\n",
      "2025-09-17 14:24:12,112 - INFO - [apply_normalization_from_file] all_pd normalization candidates: []\n",
      "2025-09-17 14:24:12,112 - INFO - [apply_normalization_from_file] all_pd normalized keys count: 0\n",
      "2025-09-17 14:24:12,112 - INFO - [apply_normalization_from_file] Normalization complete. Stored stats for keys: ['all_observations', 'all_errors']\n",
      "2025-09-17 14:24:12,113 - INFO - 🧹 Cleaning dataset: DESI_mocks_Raul\n",
      "2025-09-17 14:24:12,113 - INFO - ├── mask_out_unreliable_columns(mask_unreliable_filters_indices=[0, -2])\n",
      "2025-09-17 14:24:16,796 - INFO - │   ├── Removed columns: [0, 55]\n",
      "2025-09-17 14:24:16,797 - INFO - │   ├── New #filters: 55\n",
      "2025-09-17 14:24:16,797 - INFO - │   ├── Updated observations shape: (4929498, 55)\n",
      "2025-09-17 14:24:16,798 - INFO - │   ├── Updated errors shape: (4929498, 55)\n",
      "2025-09-17 14:24:16,798 - INFO - ├── remove_NaNs(check='both', keep_rows_partially_filled_with_NaNs=True)\n",
      "2025-09-17 14:24:17,056 - INFO - │   ├── rows fully NaN (drop): 1041/4929498 (0.02%)\n",
      "2025-09-17 14:24:17,089 - INFO - │   ├── rows with SOME NaNs:   2106/4929498 (0.04%)\n",
      "2025-09-17 14:24:17,093 - INFO - │   ├── rows dropped due to policy: 1041/4929498\n",
      "2025-09-17 14:24:17,094 - INFO - │   └── final kept: 4928457/4929498 (99.98%)\n",
      "2025-09-17 14:24:25,998 - INFO - ├── remove_magic_rows(check='obs', keep_rows_partially_filled_with_magic=True, magic_numbers=[-99, 99])\n",
      "2025-09-17 14:24:26,335 - INFO - │   ├── rows fully magic (drop): 609/4928457 (0.01%)\n",
      "2025-09-17 14:24:26,391 - INFO - │   ├── rows with SOME magic:  55948/4928457 (1.14%)\n",
      "2025-09-17 14:24:26,396 - INFO - │   └── final kept: 4927848/4928457 (99.99%)\n",
      "2025-09-17 14:24:32,724 - INFO - ├── apply_selection_cuts()\n",
      "2025-09-17 14:24:32,724 - INFO - │   ├── i-band S/N ≥ 0.0\n",
      "2025-09-17 14:24:32,781 - INFO - │   │   └── rows kept after S/N: 4894090/4927848 (99.31%)\n",
      "2025-09-17 14:24:32,782 - INFO - │   ├── mag(DESI_FLUX_R) ≤ 22.5\n",
      "2025-09-17 14:24:32,814 - INFO - │   │   └── rows kept after mag: 3284757/4927848 (66.66%)\n",
      "2025-09-17 14:24:32,820 - INFO - │   └── final kept: 3284360/4927848 (66.65%)\n",
      "2025-09-17 14:24:34,428 - INFO - ├── fix_and_mask_negative_errors()\n",
      "2025-09-17 14:24:34,538 - INFO - │   ├── rows with some negative errors: 0/3284360 (0.00%)\n",
      "2025-09-17 14:24:35,110 - INFO - ├── split_qso_by_redshift(z_lim_QSO_cut=2.1, redshift_key='REDSHIFT')\n",
      "2025-09-17 14:24:35,110 - INFO - │   ├── total QSOs: 220830\n",
      "2025-09-17 14:24:35,110 - INFO - │   ├── relabeled: low=159723, high=61107\n",
      "2025-09-17 14:24:35,143 - INFO - ├── collapse_spectype_one_vs_rest: positive_collapse_label=None → no collapse performed.\n",
      "2025-09-17 14:24:35,410 - INFO - ├── 🔑 Starting encoding process for string list...\n",
      "2025-09-17 14:24:36,011 - INFO - |    ├── 📌 Used Provided Mapping: {'GALAXY': 0, 'QSO_low': 1, 'QSO_high': 2, 'STAR': 3}\n",
      "2025-09-17 14:24:36,011 - INFO - │    ├── 📊 Category Breakdown (3284360 total):\n",
      "2025-09-17 14:24:36,014 - INFO - │    │   ├── GALAXY          → 1971364 (60.02%)\n",
      "2025-09-17 14:24:36,016 - INFO - │    │   ├── QSO_low         → 159723 (4.86%)\n",
      "2025-09-17 14:24:36,018 - INFO - │    │   ├── QSO_high        → 61107 (1.86%)\n",
      "2025-09-17 14:24:36,019 - INFO - │    │   ├── STAR            → 1092166 (33.25%)\n",
      "2025-09-17 14:24:36,020 - INFO - ├── ✅ Encoding complete (4 categories + unmapped bucket if any).\n",
      "2025-09-17 14:24:36,286 - INFO - ├── 🔑 Starting encoding process for string list...\n",
      "2025-09-17 14:24:36,860 - INFO - |    ├── 📌 Used Provided Mapping: {'DEV': 0, 'EXP': 1, 'GGAL': 2, 'GPSF': 3, 'PSF': 4, 'REX': 5, 'SER': 6, 'nan': 7}\n",
      "2025-09-17 14:24:36,861 - INFO - │    ├── 📊 Category Breakdown (3284360 total):\n",
      "2025-09-17 14:24:36,863 - INFO - │    │   ├── DEV             → 434541 (13.23%)\n",
      "2025-09-17 14:24:36,865 - INFO - │    │   ├── EXP             → 289059 (8.80%)\n",
      "2025-09-17 14:24:36,867 - INFO - │    │   ├── GGAL            →   243 (0.01%)\n",
      "2025-09-17 14:24:36,869 - INFO - │    │   ├── GPSF            →   177 (0.01%)\n",
      "2025-09-17 14:24:36,871 - INFO - │    │   ├── PSF             → 1350103 (41.11%)\n",
      "2025-09-17 14:24:36,873 - INFO - │    │   ├── REX             → 473755 (14.42%)\n",
      "2025-09-17 14:24:36,875 - INFO - │    │   ├── SER             → 678037 (20.64%)\n",
      "2025-09-17 14:24:36,877 - INFO - │    │   ├── nan             → 58445 (1.78%)\n",
      "2025-09-17 14:24:36,878 - INFO - ├── ✅ Encoding complete (8 categories + unmapped bucket if any).\n",
      "2025-09-17 14:24:36,904 - INFO - [apply_normalization_from_file] Starting normalization using file: /home/dlopez/Documentos/0.profesional/Postdoc/USP/Projects/JPAS_Domain_Adaptation/DATA/norm_params.pkl\n",
      "2025-09-17 14:24:36,904 - INFO - [apply_normalization_from_file] Loaded normalization dictionary.\n",
      "2025-09-17 14:24:36,904 - INFO - [apply_normalization_from_file] Available mean keys: ['all_observations', 'all_errors', 'all_pd']\n",
      "2025-09-17 14:24:36,904 - INFO - [apply_normalization_from_file] Available std  keys: ['all_observations', 'all_errors', 'all_pd']\n",
      "2025-09-17 14:24:36,905 - INFO - [apply_normalization_from_file] Normalizing 'all_observations' with shapes: X=(3284360, 55), mean=(55,), std=(55,)\n",
      "2025-09-17 14:24:37,341 - INFO - [apply_normalization_from_file] Wrote 'all_observations_normalized' with shape (3284360, 55)\n",
      "2025-09-17 14:24:37,342 - INFO - [apply_normalization_from_file] Normalizing 'all_errors' with shapes: E=(3284360, 55), mean=(55,), std=(55,)\n",
      "2025-09-17 14:24:37,779 - INFO - [apply_normalization_from_file] Wrote 'all_errors_normalized' with shape (3284360, 55)\n",
      "2025-09-17 14:24:37,779 - INFO - [apply_normalization_from_file] all_pd normalization candidates: []\n",
      "2025-09-17 14:24:37,780 - INFO - [apply_normalization_from_file] all_pd normalized keys count: 0\n",
      "2025-09-17 14:24:37,780 - INFO - [apply_normalization_from_file] Normalization complete. Stored stats for keys: ['all_observations', 'all_errors']\n"
     ]
    }
   ],
   "source": [
    "DATA = cleaning_tools.clean_data_pipeline(DATA, config=config_dict_cleaning, in_place=True)"
   ]
  },
  {
   "cell_type": "code",
   "execution_count": 7,
   "metadata": {},
   "outputs": [
    {
     "name": "stderr",
     "output_type": "stream",
     "text": [
      "2025-09-17 14:24:37,813 - INFO - 🔍 crossmatch_IDs_two_datasets()...\n",
      "2025-09-17 14:24:37,814 - INFO - ├── 🚀 Starting ID categorization process...\n",
      "2025-09-17 14:24:37,970 - INFO - |    ├── 📌 Found 1051168 unique IDs across 2 arrays.\n",
      "2025-09-17 14:24:38,578 - INFO - |    ├── Presence matrix created with shape: (2, 1051168)\n",
      "2025-09-17 14:24:38,582 - INFO - |    ├── Category mask created with shape: (2, 1051168)\n",
      "2025-09-17 14:24:38,582 - INFO - ├── 🚀 Starting index retrieval process...\n",
      "2025-09-17 14:24:38,582 - INFO - |    ├── 📌 Processing 1051168 unique IDs across 2 arrays.\n",
      "2025-09-17 14:24:39,142 - INFO - ├── 🚀 Starting post-processing of unique IDs across two arrays...\n",
      "2025-09-17 14:24:39,161 - INFO - |    ├── Processing complete: 1014323 IDs only in Array 1 (96.49%).\n",
      "2025-09-17 14:24:39,161 - INFO - |    ├── Processing complete: 8 IDs only in Array 2 (0.0%).\n",
      "2025-09-17 14:24:39,161 - INFO - |    ├── Processing complete: 36837 IDs in both arrays (3.5%).\n",
      "2025-09-17 14:24:39,162 - INFO - ✅ Finished crossmatch_IDs_two_datasets()\n"
     ]
    }
   ],
   "source": [
    "Dict_LoA = {\"intersection\": {}, \"outersection\": {}}\n",
    "\n",
    "IDs1, IDs2, IDs12, \\\n",
    "Dict_LoA[\"outersection\"][\"DESI_mocks_Raul\"], Dict_LoA[\"outersection\"][\"JPAS_x_DESI_Raul\"], \\\n",
    "Dict_LoA[\"intersection\"][\"DESI_mocks_Raul\"], Dict_LoA[\"intersection\"][\"JPAS_x_DESI_Raul\"] = crossmatch_tools.crossmatch_IDs_two_datasets(\n",
    "    DATA[\"DESI_mocks_Raul\"]['all_pd']['TARGETID'], DATA[\"JPAS_x_DESI_Raul\"]['all_pd']['TARGETID']\n",
    ")"
   ]
  },
  {
   "cell_type": "code",
   "execution_count": 8,
   "metadata": {},
   "outputs": [],
   "source": [
    "dict_split_data_options = global_setup.dict_split_data_options"
   ]
  },
  {
   "cell_type": "code",
   "execution_count": 9,
   "metadata": {},
   "outputs": [
    {
     "name": "stderr",
     "output_type": "stream",
     "text": [
      "2025-09-17 14:24:39,201 - INFO - ├── ✂️ Splitting list of arrays (LoA) into train/val/test subsets...\n",
      "2025-09-17 14:24:39,206 - INFO - ├── Finished splitting.\n",
      "2025-09-17 14:24:39,206 - INFO - ├── ✂️ Splitting list of arrays (LoA) into train/val/test subsets...\n",
      "2025-09-17 14:24:39,370 - INFO - ├── Finished splitting.\n"
     ]
    }
   ],
   "source": [
    "# Split the Lists of Arrays into training, validation, and testing sets\n",
    "Dict_LoA_split = {\"intersection\":{}, \"outersection\":{}}\n",
    "\n",
    "Dict_LoA_split[\"intersection\"][\"JPAS_x_DESI_Raul\"] = process_dset_splits.split_LoA(\n",
    "    Dict_LoA[\"intersection\"][\"JPAS_x_DESI_Raul\"],\n",
    "    train_ratio = dict_split_data_options[\"train_ratio_intersection\"],\n",
    "    val_ratio = dict_split_data_options[\"val_ratio_intersection\"],\n",
    "    test_ratio = dict_split_data_options[\"test_ratio_intersection\"],\n",
    "    seed = dict_split_data_options[\"random_seed_split_intersection\"]\n",
    ")\n",
    "Dict_LoA_split[\"outersection\"][\"DESI_mocks_Raul\"] = process_dset_splits.split_LoA(\n",
    "    Dict_LoA[\"outersection\"][\"DESI_mocks_Raul\"],\n",
    "    train_ratio = dict_split_data_options[\"train_ratio_outersection\"],\n",
    "    val_ratio = dict_split_data_options[\"val_ratio_outersection\"],\n",
    "    test_ratio = dict_split_data_options[\"test_ratio_outersection\"],\n",
    "    seed = dict_split_data_options[\"random_seed_split_outersection\"]\n",
    ")"
   ]
  },
  {
   "cell_type": "code",
   "execution_count": 10,
   "metadata": {},
   "outputs": [],
   "source": [
    "keys_xx = global_setup.keys_load_features['keys_xx']\n",
    "keys_yy = global_setup.keys_load_features['keys_yy']"
   ]
  },
  {
   "cell_type": "code",
   "execution_count": 18,
   "metadata": {},
   "outputs": [
    {
     "name": "stderr",
     "output_type": "stream",
     "text": [
      "2025-09-17 14:55:58,980 - INFO - |    ├── 🔧 extract_from_block_by_LoA()\n",
      "2025-09-17 14:55:58,981 - INFO - |    ├── Using reference key: 'all_observations_normalized'\n",
      "2025-09-17 14:56:02,992 - INFO - |    ├── Finished extract_from_block_by_LoA()\n",
      "2025-09-17 14:56:02,993 - INFO - ├── 💿 Initializing DataLoader object with 2216230 samples...\n",
      "2025-09-17 14:56:03,015 - INFO - ├── ✔ Finished Initialization. Class distribution: [0: 1328969 (59.97%), 1: 108263 (4.89%), 2: 41700 (1.88%), 3: 737298 (33.27%)]\n",
      "2025-09-17 14:56:03,016 - INFO - |    ├── 🔧 extract_from_block_by_LoA()\n",
      "2025-09-17 14:56:03,016 - INFO - |    ├── Using reference key: 'all_observations_normalized'\n",
      "2025-09-17 14:56:03,938 - INFO - |    ├── Finished extract_from_block_by_LoA()\n",
      "2025-09-17 14:56:03,957 - INFO - ├── 💿 Initializing DataLoader object with 475057 samples...\n",
      "2025-09-17 14:56:03,962 - INFO - ├── ✔ Finished Initialization. Class distribution: [0: 284936 (59.98%), 1: 22944 (4.83%), 2: 8646 (1.82%), 3: 158531 (33.37%)]\n",
      "2025-09-17 14:56:03,962 - INFO - |    ├── 🔧 extract_from_block_by_LoA()\n",
      "2025-09-17 14:56:03,962 - INFO - |    ├── Using reference key: 'all_observations_normalized'\n",
      "2025-09-17 14:56:04,729 - INFO - |    ├── Finished extract_from_block_by_LoA()\n",
      "2025-09-17 14:56:04,733 - INFO - ├── 💿 Initializing DataLoader object with 475352 samples...\n",
      "2025-09-17 14:56:04,738 - INFO - ├── ✔ Finished Initialization. Class distribution: [0: 286647 (60.30%), 1: 22765 (4.79%), 2: 8790 (1.85%), 3: 157150 (33.06%)]\n",
      "2025-09-17 14:56:04,739 - INFO - |    ├── 🔧 extract_from_block_by_LoA()\n",
      "2025-09-17 14:56:04,739 - INFO - |    ├── Using reference key: 'all_observations_normalized'\n",
      "2025-09-17 14:56:04,784 - INFO - |    ├── Finished extract_from_block_by_LoA()\n",
      "2025-09-17 14:56:04,788 - INFO - ├── 💿 Initializing DataLoader object with 14734 samples...\n",
      "2025-09-17 14:56:04,788 - INFO - ├── ✔ Finished Initialization. Class distribution: [0: 8949 (60.74%), 1: 639 (4.34%), 2: 257 (1.74%), 3: 4889 (33.18%)]\n",
      "2025-09-17 14:56:04,789 - INFO - |    ├── 🔧 extract_from_block_by_LoA()\n",
      "2025-09-17 14:56:04,789 - INFO - |    ├── Using reference key: 'all_observations_normalized'\n",
      "2025-09-17 14:56:04,811 - INFO - |    ├── Finished extract_from_block_by_LoA()\n",
      "2025-09-17 14:56:04,811 - INFO - ├── 💿 Initializing DataLoader object with 7367 samples...\n",
      "2025-09-17 14:56:04,812 - INFO - ├── ✔ Finished Initialization. Class distribution: [0: 4465 (60.61%), 1: 337 (4.57%), 2: 124 (1.68%), 3: 2441 (33.13%)]\n",
      "2025-09-17 14:56:04,812 - INFO - |    ├── 🔧 extract_from_block_by_LoA()\n",
      "2025-09-17 14:56:04,812 - INFO - |    ├── Using reference key: 'all_observations_normalized'\n",
      "2025-09-17 14:56:04,856 - INFO - |    ├── Finished extract_from_block_by_LoA()\n",
      "2025-09-17 14:56:04,856 - INFO - ├── 💿 Initializing DataLoader object with 14736 samples...\n",
      "2025-09-17 14:56:04,857 - INFO - ├── ✔ Finished Initialization. Class distribution: [0: 8986 (60.98%), 1: 666 (4.52%), 2: 199 (1.35%), 3: 4885 (33.15%)]\n"
     ]
    }
   ],
   "source": [
    "extract_dsets = [\n",
    "    (\"DESI_mocks_Raul\", \"outersection\"),\n",
    "    (\"JPAS_x_DESI_Raul\", \"intersection\")\n",
    "]\n",
    "\n",
    "dset_loaders = {}\n",
    "for key_dset, key_xmatch in extract_dsets:\n",
    "    dset_loaders.setdefault(key_dset, {})\n",
    "    for split in global_setup.splits:\n",
    "        LoA = Dict_LoA_split[key_xmatch][key_dset].get(split, [])\n",
    "        _, xx, yy = process_dset_splits.extract_from_block_by_LoA(\n",
    "            block=DATA[key_dset], LoA=LoA, keys_xx=keys_xx, keys_yy=keys_yy\n",
    "        )\n",
    "        dset_loaders[key_dset][split] = data_loaders.DataLoader(xx, yy)"
   ]
  },
  {
   "cell_type": "code",
   "execution_count": null,
   "metadata": {},
   "outputs": [],
   "source": []
  }
 ],
 "metadata": {
  "kernelspec": {
   "display_name": "VE",
   "language": "python",
   "name": "python3"
  },
  "language_info": {
   "codemirror_mode": {
    "name": "ipython",
    "version": 3
   },
   "file_extension": ".py",
   "mimetype": "text/x-python",
   "name": "python",
   "nbconvert_exporter": "python",
   "pygments_lexer": "ipython3",
   "version": "3.9.23"
  }
 },
 "nbformat": 4,
 "nbformat_minor": 2
}
