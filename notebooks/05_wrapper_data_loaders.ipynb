{
 "cells": [
  {
   "cell_type": "code",
   "execution_count": null,
   "metadata": {},
   "outputs": [],
   "source": [
    "%load_ext autoreload\n",
    "\n",
    "import logging\n",
    "logging.basicConfig(level=logging.INFO, format='%(asctime)s - %(levelname)s - %(message)s') # NOTSET, DEBUG, INFO, WARN, ERROR, CRITICAL\n",
    "\n",
    "from JPAS_DA import global_setup\n",
    "from JPAS_DA.data import loading_tools\n",
    "from JPAS_DA.data import wrapper_data_loaders\n",
    "\n",
    "import numpy as np\n",
    "\n",
    "from JPAS_DA.utils import plotting_utils\n",
    "import matplotlib as mpl\n",
    "import matplotlib.pyplot as plt\n",
    "plt.style.use('default')\n",
    "plt.close('all')\n",
    "font, rcnew = plotting_utils.matplotlib_default_config()\n",
    "mpl.rc('font', **font)\n",
    "plt.rcParams.update(rcnew)\n",
    "plt.style.use('tableau-colorblind10')\n",
    "%matplotlib inline"
   ]
  },
  {
   "cell_type": "code",
   "execution_count": null,
   "metadata": {},
   "outputs": [],
   "source": [
    "bundle = wrapper_data_loaders.wrapper_build_dataloaders(\n",
    "    root_path=global_setup.DATA_path,\n",
    "    include=[\"JPAS_x_DESI_Raul\", \"DESI_mocks_Raul\"],\n",
    "    dataset_params={\n",
    "        \"JPAS_x_DESI_Raul\": {\"datasets\": global_setup.load_JPAS_x_DESI_Raul},\n",
    "        \"DESI_mocks_Raul\":  {\"datasets\": global_setup.load_DESI_mocks_Raul},\n",
    "        \"Ignasi\":           {\"datasets\": global_setup.load_Ignasi},  # optional; won't be used in loaders unless you include it in \"include\"\n",
    "    },\n",
    "    random_seed_load=global_setup.default_seed,\n",
    "    cleaning_config=global_setup.config_dict_cleaning,\n",
    "    crossmatch_pair=(\"DESI_mocks_Raul\", \"JPAS_x_DESI_Raul\"),\n",
    "    id_key=\"TARGETID\",\n",
    "    split_config=global_setup.dict_split_data_options,\n",
    "    keys_xx=[\"all_observations_normalized\",\"all_errors_normalized\",\"MORPHTYPE_int\"],\n",
    "    keys_yy=[\"SPECTYPE_int\",\"TARGETID\"],\n",
    "    return_artifacts=True,\n",
    ")\n",
    "\n",
    "dset_loaders = bundle[\"dataloaders\"]\n",
    "DATA_clean   = bundle[\"DATA\"]                # cleaned DATA if you need it\n",
    "Dict_LoA     = bundle[\"Dict_LoA\"]            # raw LoA sets\n",
    "Dict_LoA_split = bundle[\"Dict_LoA_split\"]    # split LoAs"
   ]
  },
  {
   "cell_type": "code",
   "execution_count": null,
   "metadata": {},
   "outputs": [],
   "source": [
    "dset_train = dset_loaders[\"DESI_mocks_Raul\"][\"train\"]"
   ]
  },
  {
   "cell_type": "code",
   "execution_count": null,
   "metadata": {},
   "outputs": [],
   "source": [
    "xx, yy_true = dset_train(\n",
    "    batch_size=100,\n",
    "    seed=0,\n",
    "    sampling_strategy=\"true_random\",\n",
    "    to_torch=True,\n",
    "    device=\"cuda\"\n",
    ")"
   ]
  },
  {
   "cell_type": "code",
   "execution_count": null,
   "metadata": {},
   "outputs": [],
   "source": []
  }
 ],
 "metadata": {
  "kernelspec": {
   "display_name": "VE",
   "language": "python",
   "name": "python3"
  },
  "language_info": {
   "codemirror_mode": {
    "name": "ipython",
    "version": 3
   },
   "file_extension": ".py",
   "mimetype": "text/x-python",
   "name": "python",
   "nbconvert_exporter": "python",
   "pygments_lexer": "ipython3",
   "version": "3.9.23"
  }
 },
 "nbformat": 4,
 "nbformat_minor": 2
}
