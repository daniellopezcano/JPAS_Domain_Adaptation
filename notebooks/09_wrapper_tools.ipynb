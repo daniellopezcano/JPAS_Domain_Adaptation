{
 "cells": [
  {
   "cell_type": "code",
   "execution_count": null,
   "metadata": {},
   "outputs": [],
   "source": [
    "%load_ext autoreload\n",
    "\n",
    "import logging\n",
    "logging.basicConfig(level=logging.INFO, format='%(asctime)s - %(levelname)s - %(message)s') # NOTSET, DEBUG, INFO, WARN, ERROR, CRITICAL\n",
    "\n",
    "from JPAS_DA import global_setup\n",
    "from JPAS_DA.wrapper_wandb import wrapper_tools\n",
    "from JPAS_DA.evaluation import evaluation_tools\n",
    "\n",
    "import os\n",
    "import torch\n",
    "import numpy as np\n",
    "\n",
    "torch.backends.cudnn.deterministic = True\n",
    "torch.backends.cudnn.benchmark = False\n",
    "\n",
    "from JPAS_DA.utils import plotting_utils\n",
    "import matplotlib as mpl\n",
    "import matplotlib.pyplot as plt\n",
    "plt.style.use('default')\n",
    "plt.close('all')\n",
    "font, rcnew = plotting_utils.matplotlib_default_config()\n",
    "mpl.rc('font', **font)\n",
    "plt.rcParams.update(rcnew)\n",
    "plt.style.use('tableau-colorblind10')\n",
    "%matplotlib inline\n",
    "\n",
    "from JPAS_DA.utils import aux_tools\n",
    "aux_tools.set_seed(42)"
   ]
  },
  {
   "cell_type": "code",
   "execution_count": null,
   "metadata": {},
   "outputs": [],
   "source": [
    "config_path = os.path.join(global_setup.path_configs, \"config_DA.yaml\")\n",
    "run_name = \"09_DA\""
   ]
  },
  {
   "cell_type": "code",
   "execution_count": null,
   "metadata": {},
   "outputs": [],
   "source": [
    "config_0, config, dset_train, dset_val, config_encoder, model_encoder, config_downstream, model_downstream, min_val_loss = wrapper_tools.wrapper_train_from_config(\n",
    "    config_path, run_name\n",
    ")"
   ]
  },
  {
   "cell_type": "code",
   "execution_count": null,
   "metadata": {},
   "outputs": [],
   "source": [
    "plotting_utils.plot_training_curves(config[\"training\"][\"path_save\"])"
   ]
  },
  {
   "cell_type": "code",
   "execution_count": null,
   "metadata": {},
   "outputs": [],
   "source": [
    "device = next(model_encoder.parameters()).device\n",
    "\n",
    "class_names = global_setup.class_names\n",
    "# class_names = ['QSO_high', 'no_QSO_high']"
   ]
  },
  {
   "cell_type": "code",
   "execution_count": null,
   "metadata": {},
   "outputs": [],
   "source": [
    "# === Train ===\n",
    "xx_train, yy_true_train = dset_train(batch_size=dset_train.NN_xx, seed=0, sampling_strategy=\"true_random\", to_torch=True, device=device)\n",
    "\n",
    "with torch.no_grad():\n",
    "        features_train = model_encoder(xx_train)\n",
    "        logits = model_downstream(features_train)\n",
    "yy_pred_P_train = torch.nn.functional.softmax(logits, dim=1)\n",
    "yy_pred_P_train = yy_pred_P_train.cpu().numpy()\n",
    "yy_pred_train = np.argmax(yy_pred_P_train, axis=1)\n",
    "yy_true_train = yy_true_train.cpu().numpy()\n",
    "xx_train = xx_train.cpu().numpy()\n",
    "features_train = features_train.cpu().numpy()\n",
    "\n",
    "evaluation_tools.plot_confusion_matrix(\n",
    "    yy_true_train, yy_pred_P_train,\n",
    "    class_names=class_names,\n",
    "    cmap=plt.cm.RdYlGn, title=\"train\"\n",
    ")\n",
    "\n",
    "\n",
    "# === Val ===\n",
    "xx_val, yy_true_val = dset_val(batch_size=dset_val.NN_xx, seed=0, sampling_strategy=\"true_random\", to_torch=True, device=device)\n",
    "\n",
    "with torch.no_grad():\n",
    "        features_val = model_encoder(xx_val)\n",
    "        logits = model_downstream(features_val)\n",
    "yy_pred_P_val = torch.nn.functional.softmax(logits, dim=1)\n",
    "yy_pred_P_val = yy_pred_P_val.cpu().numpy()\n",
    "yy_pred_val = np.argmax(yy_pred_P_val, axis=1)\n",
    "yy_true_val = yy_true_val.cpu().numpy()\n",
    "xx_val = xx_val.cpu().numpy()\n",
    "features_val = features_val.cpu().numpy()\n",
    "\n",
    "evaluation_tools.plot_confusion_matrix(\n",
    "    yy_true_val, yy_pred_P_val,\n",
    "    class_names=class_names,\n",
    "    cmap=plt.cm.RdYlGn, title=\"val\"\n",
    ")\n",
    "\n",
    "\n",
    "# === Compare Train VS Val ===\n",
    "evaluation_tools.compare_TPR_confusion_matrices(\n",
    "    yy_true_train,\n",
    "    yy_pred_P_train,\n",
    "    yy_true_val,\n",
    "    yy_pred_P_val,\n",
    "    class_names=class_names,\n",
    "    figsize=(10, 7),\n",
    "    cmap='seismic',\n",
    "    title='TPR Comparison: Val vs Train'\n",
    ")\n",
    "\n",
    "metrics = evaluation_tools.compare_sets_performance(\n",
    "    yy_true_train, yy_pred_P_train,\n",
    "    yy_true_val, yy_pred_P_val,\n",
    "    class_names=class_names,\n",
    "    name_1=\"train\",\n",
    "    name_2=\"val\"\n",
    ")"
   ]
  },
  {
   "cell_type": "code",
   "execution_count": null,
   "metadata": {},
   "outputs": [],
   "source": []
  }
 ],
 "metadata": {
  "kernelspec": {
   "display_name": "VE",
   "language": "python",
   "name": "python3"
  },
  "language_info": {
   "codemirror_mode": {
    "name": "ipython",
    "version": 3
   },
   "file_extension": ".py",
   "mimetype": "text/x-python",
   "name": "python",
   "nbconvert_exporter": "python",
   "pygments_lexer": "ipython3",
   "version": "3.9.23"
  }
 },
 "nbformat": 4,
 "nbformat_minor": 2
}
