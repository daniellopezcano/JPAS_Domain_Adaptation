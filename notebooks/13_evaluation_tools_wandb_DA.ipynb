{
 "cells": [
  {
   "cell_type": "code",
   "execution_count": null,
   "metadata": {},
   "outputs": [],
   "source": [
    "%load_ext autoreload\n",
    "\n",
    "import logging\n",
    "logging.basicConfig(level=logging.INFO, format='%(asctime)s - %(levelname)s - %(message)s') # NOTSET, DEBUG, INFO, WARN, ERROR, CRITICAL\n",
    "\n",
    "from JPAS_DA import global_setup\n",
    "\n",
    "from JPAS_DA.data import loading_tools\n",
    "from JPAS_DA.data import cleaning_tools\n",
    "from JPAS_DA.data import crossmatch_tools\n",
    "from JPAS_DA.data import process_dset_splits\n",
    "from JPAS_DA.data import wrapper_data_loaders\n",
    "\n",
    "from JPAS_DA.models import model_building_tools\n",
    "from JPAS_DA.training import save_load_tools\n",
    "from JPAS_DA.evaluation import evaluation_tools\n",
    "from JPAS_DA.wrapper_wandb import wrapper_tools\n",
    "from JPAS_DA.evaluation import evaluation_tools\n",
    "\n",
    "from JPAS_DA.evaluation import wandb_evaluation_tools\n",
    "\n",
    "import os\n",
    "import torch\n",
    "import numpy as np\n",
    "\n",
    "torch.backends.cudnn.deterministic = True\n",
    "torch.backends.cudnn.benchmark = False\n",
    "\n",
    "from JPAS_DA.utils import plotting_utils\n",
    "import matplotlib as mpl\n",
    "import matplotlib.pyplot as plt\n",
    "plt.style.use('default')\n",
    "plt.close('all')\n",
    "font, rcnew = plotting_utils.matplotlib_default_config()\n",
    "mpl.rc('font', **font)\n",
    "plt.rcParams.update(rcnew)\n",
    "plt.style.use('tableau-colorblind10')\n",
    "%matplotlib widget\n",
    "\n",
    "from JPAS_DA.utils import aux_tools\n",
    "aux_tools.set_seed(42)"
   ]
  },
  {
   "cell_type": "code",
   "execution_count": null,
   "metadata": {},
   "outputs": [],
   "source": [
    "path_wandb_sweep_DA = os.path.join(global_setup.path_models, \"wandb_DA\")\n",
    "N_selected_sweeps = 2"
   ]
  },
  {
   "cell_type": "code",
   "execution_count": null,
   "metadata": {},
   "outputs": [],
   "source": [
    "sorted_list_sweep_names_DA, sorted_losses_DA = wandb_evaluation_tools.load_and_plot_sorted_sweeps(path_wandb_sweep_DA, max_runs_to_plot=N_selected_sweeps)"
   ]
  },
  {
   "cell_type": "code",
   "execution_count": null,
   "metadata": {},
   "outputs": [],
   "source": [
    "paths_load_DA = [os.path.join(path_wandb_sweep_DA, sweep_name) for sweep_name in sorted_list_sweep_names_DA[:N_selected_sweeps]]"
   ]
  },
  {
   "cell_type": "code",
   "execution_count": null,
   "metadata": {},
   "outputs": [],
   "source": [
    "class_names = global_setup.class_names\n",
    "# class_names = [\"QSO_high\", \"no_QSO_high\"]\n",
    "\n",
    "n_classes = len(class_names)\n",
    "\n",
    "return_keys=['test_JPAS_matched']\n",
    "define_dataset_loaders_keys=['JPAS_matched']\n",
    "keys_yy=[\"SPECTYPE_int\", \"TARGETID\", \"DESI_FLUX_R\"]"
   ]
  },
  {
   "cell_type": "code",
   "execution_count": null,
   "metadata": {},
   "outputs": [],
   "source": [
    "RESULTS_DA = evaluation_tools.evaluate_results_from_load_paths(\n",
    "    paths_load=paths_load_DA, return_keys=return_keys, define_dataset_loaders_keys=define_dataset_loaders_keys, keys_yy=keys_yy\n",
    ")"
   ]
  },
  {
   "cell_type": "code",
   "execution_count": null,
   "metadata": {},
   "outputs": [],
   "source": [
    "for model_idx, model_outputs in RESULTS_DA.items():\n",
    "    for key, result in model_outputs.items():\n",
    "        yy_true = result[\"true\"]\n",
    "        yy_pred = result[\"prob\"]\n",
    "        \n",
    "        # Plot confusion matrix\n",
    "        evaluation_tools.plot_confusion_matrix(\n",
    "            yy_true,\n",
    "            yy_pred,\n",
    "            class_names=class_names,\n",
    "            cmap=plt.cm.RdYlGn,\n",
    "            title=f\"{key.replace('_', ' ')} (DA Model {model_idx})\"\n",
    "        )"
   ]
  },
  {
   "cell_type": "code",
   "execution_count": null,
   "metadata": {},
   "outputs": [],
   "source": [
    "magnitude_key=\"DESI_FLUX_R\"\n",
    "mag_bin_edges=(17, 19, 21, 22, 22.5)\n",
    "output_key=\"MAG_BIN_ID\"\n",
    "\n",
    "magnitude_ranges = [(mag_bin_edges[i], mag_bin_edges[i+1]) for i in range(len(mag_bin_edges)-1)]\n",
    "colors = ['blue', 'green', 'orange', 'red']\n",
    "colormaps = [plt.cm.Blues, plt.cm.Greens, plt.cm.YlOrBr, plt.cm.Reds]"
   ]
  },
  {
   "cell_type": "code",
   "execution_count": null,
   "metadata": {},
   "outputs": [],
   "source": [
    "RESULTS_DA = evaluation_tools.add_magnitude_bins_to_results(\n",
    "    RESULTS_DA, magnitude_key=magnitude_key, mag_bin_edges=mag_bin_edges, output_key=output_key\n",
    ")"
   ]
  },
  {
   "cell_type": "code",
   "execution_count": null,
   "metadata": {},
   "outputs": [],
   "source": [
    "magnitudes_val_DESI = -2.5 * np.log10(RESULTS_DA[ii_model]['val_DESI_only']['DESI_FLUX_R']) + 22.5\n",
    "\n",
    "masks_all = plotting_utils.plot_histogram_with_ranges_multiple(\n",
    "    magnitudes_val_DESI, ranges=magnitude_ranges, colors=colors, bins=42,\n",
    "    x_label=\"DESI Magnitude (R)\",\n",
    "    title=\"DESI R-band Magnitudes by Dataset Split and Loader\"\n",
    ")"
   ]
  },
  {
   "cell_type": "code",
   "execution_count": null,
   "metadata": {},
   "outputs": [],
   "source": [
    "bin_labels = [f\"{lo}–{hi}\" for lo, hi in magnitude_ranges]\n",
    "num_bins = len(magnitude_ranges)\n",
    "\n",
    "# Sweep DA models\n",
    "for model_idx, model_outputs in RESULTS_DA.items():\n",
    "    for key, result in model_outputs.items():\n",
    "        mag_bins = result[\"MAG_BIN_ID\"]\n",
    "        yy_true_all = result[\"true\"]\n",
    "        yy_pred_all = result[\"prob\"]\n",
    "\n",
    "        for bin_id in range(num_bins):\n",
    "            mask = mag_bins == bin_id\n",
    "            if np.sum(mask) == 0:\n",
    "                continue  # Skip empty bins\n",
    "\n",
    "            yy_true = yy_true_all[mask]\n",
    "            yy_pred = yy_pred_all[mask]\n",
    "\n",
    "            evaluation_tools.plot_confusion_matrix(\n",
    "                yy_true,\n",
    "                yy_pred,\n",
    "                class_names=class_names,\n",
    "                cmap=colormaps[bin_id],\n",
    "                title=f\"{key.replace('_', ' ')} (DA {model_idx}) | Mag {bin_labels[bin_id]}\"\n",
    "            )"
   ]
  },
  {
   "cell_type": "code",
   "execution_count": null,
   "metadata": {},
   "outputs": [],
   "source": []
  }
 ],
 "metadata": {
  "kernelspec": {
   "display_name": "VE",
   "language": "python",
   "name": "python3"
  },
  "language_info": {
   "codemirror_mode": {
    "name": "ipython",
    "version": 3
   },
   "file_extension": ".py",
   "mimetype": "text/x-python",
   "name": "python",
   "nbconvert_exporter": "python",
   "pygments_lexer": "ipython3",
   "version": "3.9.23"
  }
 },
 "nbformat": 4,
 "nbformat_minor": 2
}
