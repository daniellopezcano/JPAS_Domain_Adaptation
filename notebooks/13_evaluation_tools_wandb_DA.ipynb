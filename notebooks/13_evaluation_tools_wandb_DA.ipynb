{
 "cells": [
  {
   "cell_type": "code",
   "execution_count": null,
   "metadata": {},
   "outputs": [],
   "source": [
    "%load_ext autoreload\n",
    "\n",
    "import logging\n",
    "logging.basicConfig(level=logging.INFO, format='%(asctime)s - %(levelname)s - %(message)s') # NOTSET, DEBUG, INFO, WARN, ERROR, CRITICAL\n",
    "\n",
    "from JPAS_DA import global_setup\n",
    "\n",
    "from JPAS_DA.data import loading_tools\n",
    "from JPAS_DA.data import cleaning_tools\n",
    "from JPAS_DA.data import crossmatch_tools\n",
    "from JPAS_DA.data import process_dset_splits\n",
    "from JPAS_DA.data import wrapper_data_loaders\n",
    "\n",
    "from JPAS_DA.models import model_building_tools\n",
    "from JPAS_DA.training import save_load_tools\n",
    "from JPAS_DA.evaluation import evaluation_tools\n",
    "from JPAS_DA.wrapper_wandb import wrapper_tools\n",
    "from JPAS_DA.evaluation import evaluation_tools\n",
    "\n",
    "from JPAS_DA.evaluation import wandb_evaluation_tools\n",
    "\n",
    "import os\n",
    "import torch\n",
    "import numpy as np\n",
    "\n",
    "torch.backends.cudnn.deterministic = True\n",
    "torch.backends.cudnn.benchmark = False\n",
    "\n",
    "from JPAS_DA.utils import plotting_utils\n",
    "import matplotlib as mpl\n",
    "import matplotlib.pyplot as plt\n",
    "plt.style.use('default')\n",
    "plt.close('all')\n",
    "font, rcnew = plotting_utils.matplotlib_default_config()\n",
    "mpl.rc('font', **font)\n",
    "plt.rcParams.update(rcnew)\n",
    "plt.style.use('tableau-colorblind10')\n",
    "%matplotlib widget\n",
    "\n",
    "from JPAS_DA.utils import aux_tools\n",
    "aux_tools.set_seed(42)"
   ]
  },
  {
   "cell_type": "code",
   "execution_count": null,
   "metadata": {},
   "outputs": [],
   "source": [
    "path_wandb_sweep_DA = os.path.join(global_setup.path_models, \"wandb_DA\")\n",
    "N_selected_sweeps = 1"
   ]
  },
  {
   "cell_type": "code",
   "execution_count": null,
   "metadata": {},
   "outputs": [],
   "source": [
    "sorted_list_sweep_names_DA, sorted_losses_DA = wandb_evaluation_tools.load_and_plot_sorted_sweeps(path_wandb_sweep_DA, max_runs_to_plot=N_selected_sweeps)"
   ]
  },
  {
   "cell_type": "code",
   "execution_count": null,
   "metadata": {},
   "outputs": [],
   "source": [
    "paths_load_DA = [os.path.join(path_wandb_sweep_DA, sweep_name) for sweep_name in sorted_list_sweep_names_DA[:N_selected_sweeps]]"
   ]
  },
  {
   "cell_type": "code",
   "execution_count": null,
   "metadata": {},
   "outputs": [],
   "source": [
    "return_keys=['train_JPAS_matched', 'test_JPAS_matched']\n",
    "define_dataset_loaders_keys=['JPAS_matched']\n",
    "keys_yy=[\"SPECTYPE_int\", \"TARGETID\", \"DESI_FLUX_R\"]"
   ]
  },
  {
   "cell_type": "code",
   "execution_count": null,
   "metadata": {},
   "outputs": [],
   "source": [
    "RESULTS_DA = evaluation_tools.evaluate_results_from_load_paths(\n",
    "    paths_load=paths_load_DA, return_keys=return_keys, define_dataset_loaders_keys=define_dataset_loaders_keys, keys_yy=keys_yy\n",
    ")"
   ]
  },
  {
   "cell_type": "code",
   "execution_count": null,
   "metadata": {},
   "outputs": [],
   "source": [
    "n_classes = len(np.unique(RESULTS_DA[0]['test_JPAS_matched']['label']))\n",
    "\n",
    "if n_classes == 2:\n",
    "    class_names = ['QSO_high', 'no_QSO_high']\n",
    "else:\n",
    "    class_names = global_setup.class_names"
   ]
  },
  {
   "cell_type": "code",
   "execution_count": null,
   "metadata": {},
   "outputs": [],
   "source": [
    "for model_idx, model_outputs in RESULTS_DA.items():\n",
    "    for key, result in model_outputs.items():\n",
    "        yy_true = result[\"true\"]\n",
    "        yy_pred = result[\"prob\"]\n",
    "        \n",
    "        # Plot confusion matrix\n",
    "        evaluation_tools.plot_confusion_matrix(\n",
    "            yy_true,\n",
    "            yy_pred,\n",
    "            class_names=class_names,\n",
    "            cmap=plt.cm.RdYlGn,\n",
    "            title=f\"{key.replace('_', ' ')} (DA Model {model_idx})\"\n",
    "        )"
   ]
  },
  {
   "cell_type": "code",
   "execution_count": null,
   "metadata": {},
   "outputs": [],
   "source": [
    "plotting_utils.f1_radar_plot(\n",
    "    results_dict=RESULTS_DA,\n",
    "    model_configs=[\n",
    "        {'name': 'Model 0', 'index': 0, 'style_group': 'DA'}\n",
    "    ],\n",
    "    datasets=['train_JPAS_matched', 'test_JPAS_matched'],\n",
    "    dataset_colors={\n",
    "        'train_JPAS_matched': 'crimson',\n",
    "        'test_JPAS_matched': 'royalblue'\n",
    "    },\n",
    "    model_styles={\n",
    "        'DA': '-'\n",
    "    },\n",
    "    class_names=class_names,\n",
    "    fig_title=\"F1 Radar Plot DA Models\",\n",
    ")"
   ]
  },
  {
   "cell_type": "code",
   "execution_count": null,
   "metadata": {},
   "outputs": [],
   "source": [
    "magnitude_key=\"DESI_FLUX_R\"\n",
    "mag_bin_edges=(17, 19, 21, 22, 22.5)\n",
    "output_key=\"MAG_BIN_ID\"\n",
    "\n",
    "magnitude_ranges = [(mag_bin_edges[i], mag_bin_edges[i+1]) for i in range(len(mag_bin_edges)-1)]\n",
    "colors = ['blue', 'green', 'orange', 'red']\n",
    "colormaps = [plt.cm.Blues, plt.cm.Greens, plt.cm.YlOrBr, plt.cm.Reds]"
   ]
  },
  {
   "cell_type": "code",
   "execution_count": null,
   "metadata": {},
   "outputs": [],
   "source": [
    "RESULTS_DA = evaluation_tools.add_magnitude_bins_to_results(\n",
    "    RESULTS_DA, magnitude_key=magnitude_key, mag_bin_edges=mag_bin_edges, output_key=output_key\n",
    ")"
   ]
  },
  {
   "cell_type": "code",
   "execution_count": null,
   "metadata": {},
   "outputs": [],
   "source": [
    "ii_model = 0\n",
    "\n",
    "magnitudes_plot = {\n",
    "    (\"JPAS\", \"test_JPAS_matched\"): -2.5 * np.log10(RESULTS_DA[ii_model]['test_JPAS_matched']['DESI_FLUX_R']) + 22.5,\n",
    "}\n",
    "\n",
    "masks_all = plotting_utils.plot_histogram_with_ranges_multiple(\n",
    "    magnitudes_plot,\n",
    "    ranges=magnitude_ranges,\n",
    "    colors=colors,\n",
    "    bins=42,\n",
    "    x_label=\"DESI Magnitude (R)\",\n",
    "    title=\"DESI R-band Magnitudes by Dataset Split and Loader\"\n",
    ")"
   ]
  },
  {
   "cell_type": "code",
   "execution_count": null,
   "metadata": {},
   "outputs": [],
   "source": [
    "bin_labels = [f\"{lo}–{hi}\" for lo, hi in magnitude_ranges]\n",
    "num_bins = len(magnitude_ranges)\n",
    "\n",
    "# Sweep DA models\n",
    "for model_idx, model_outputs in RESULTS_DA.items():\n",
    "    for key, result in model_outputs.items():\n",
    "        mag_bins = result[\"MAG_BIN_ID\"]\n",
    "        yy_true_all = result[\"true\"]\n",
    "        yy_pred_all = result[\"prob\"]\n",
    "\n",
    "        for bin_id in range(num_bins):\n",
    "            mask = mag_bins == bin_id\n",
    "            if np.sum(mask) == 0:\n",
    "                continue  # Skip empty bins\n",
    "\n",
    "            yy_true = yy_true_all[mask]\n",
    "            yy_pred = yy_pred_all[mask]\n",
    "\n",
    "            evaluation_tools.plot_confusion_matrix(\n",
    "                yy_true,\n",
    "                yy_pred,\n",
    "                class_names=class_names,\n",
    "                cmap=colormaps[bin_id],\n",
    "                title=f\"{key.replace('_', ' ')} (DA {model_idx}) | Mag {bin_labels[bin_id]}\"\n",
    "            )"
   ]
  },
  {
   "cell_type": "code",
   "execution_count": null,
   "metadata": {},
   "outputs": [],
   "source": [
    "for bin_id in range(num_bins):\n",
    "    results_dict_bin = {}\n",
    "\n",
    "    for model_cfg in [\n",
    "        {'name': 'Model 0', 'index': 0, 'style_group': 'no_DA'}\n",
    "    ]:\n",
    "        model_idx = model_cfg['index']\n",
    "        results_dict_bin[model_idx] = {}\n",
    "\n",
    "        for ds in ['train_JPAS_matched', 'test_JPAS_matched']:\n",
    "            all_data = RESULTS_DA[model_idx][ds]\n",
    "            mag_bins = all_data['MAG_BIN_ID']\n",
    "\n",
    "            # Mask to filter by bin\n",
    "            mask = mag_bins == bin_id\n",
    "            if np.sum(mask) == 0:\n",
    "                continue\n",
    "\n",
    "            results_dict_bin[model_idx][ds] = {\n",
    "                'true': all_data['true'][mask],\n",
    "                'label': all_data['label'][mask]\n",
    "            }\n",
    "\n",
    "    # Skip if all datasets are empty for this bin\n",
    "    if all(len(results_dict_bin[m]) == 0 for m in results_dict_bin):\n",
    "        continue\n",
    "\n",
    "    # Call the radar plot function\n",
    "    plotting_utils.f1_radar_plot(\n",
    "        results_dict=results_dict_bin,\n",
    "        model_configs=[\n",
    "            {'name': 'Model 0', 'index': 0, 'style_group': 'no_DA'}\n",
    "        ],\n",
    "        datasets=['train_JPAS_matched', 'test_JPAS_matched'],\n",
    "        dataset_colors={\n",
    "            'train_JPAS_matched': 'crimson',\n",
    "            'test_JPAS_matched': 'royalblue'\n",
    "        },\n",
    "        model_styles={\n",
    "            'no_DA': '-'\n",
    "        },\n",
    "        class_names=class_names,\n",
    "        fig_title=f\"F1 Radar Plot (DA) | Magnitude Bin {bin_labels[bin_id]}\"\n",
    "    )"
   ]
  },
  {
   "cell_type": "code",
   "execution_count": null,
   "metadata": {},
   "outputs": [],
   "source": [
    "plotting_utils.plot_f1_radar_by_bin_and_dataset(\n",
    "    results_dict=RESULTS_DA,\n",
    "    model_configs=[\n",
    "        {'name': 'Model 0', 'index': 0, 'style_group': 'DA'}\n",
    "    ],\n",
    "    datasets=['test_JPAS_matched', 'train_JPAS_matched'],\n",
    "    dataset_linestyles={'test_JPAS_matched': '-', 'train_JPAS_matched': '--'},\n",
    "    class_names=class_names,\n",
    "    bin_labels=bin_labels,\n",
    "    bin_colors=colors,\n",
    "    title=\"DA\",\n",
    "    linewidth_model=0.6,\n",
    "    linewidth_mean=3,\n",
    "    yticks=[0.2, 0.4, 0.6, 0.8, 1.0],\n",
    "    ylim=(0, 1),\n",
    "    tick_labelsize=18,\n",
    "    radial_labelsize=14,\n",
    "    text_fontsize=14,\n",
    "    legend_fontsize=16,\n",
    "    title_fontsize=30,\n",
    "    title_pad=50,\n",
    "    dataset_labels = {'test_JPAS_matched': 'test', 'train_JPAS_matched': 'train'},\n",
    ")"
   ]
  },
  {
   "cell_type": "code",
   "execution_count": null,
   "metadata": {},
   "outputs": [],
   "source": [
    "plotting_utils.plot_f1_difference_single_model(\n",
    "    results_dict=RESULTS_DA,\n",
    "    model_index=0,\n",
    "    ds_source=\"train_JPAS_matched\",\n",
    "    ds_target=\"test_JPAS_matched\",\n",
    "    class_names=class_names,\n",
    "    bin_labels=bin_labels,\n",
    "    bin_colors=colors,\n",
    "    title=\"Δ F1-score DA: test − train\",\n",
    "    ylim=(-0.75, 0.75),\n",
    "    ylabel=\"Δ F1-score\",\n",
    "    bar_width=0.15,\n",
    "    tick_rotation=15,\n",
    "    show=True\n",
    ")"
   ]
  },
  {
   "cell_type": "code",
   "execution_count": null,
   "metadata": {},
   "outputs": [],
   "source": []
  }
 ],
 "metadata": {
  "kernelspec": {
   "display_name": "VE",
   "language": "python",
   "name": "python3"
  },
  "language_info": {
   "codemirror_mode": {
    "name": "ipython",
    "version": 3
   },
   "file_extension": ".py",
   "mimetype": "text/x-python",
   "name": "python",
   "nbconvert_exporter": "python",
   "pygments_lexer": "ipython3",
   "version": "3.9.23"
  }
 },
 "nbformat": 4,
 "nbformat_minor": 2
}
